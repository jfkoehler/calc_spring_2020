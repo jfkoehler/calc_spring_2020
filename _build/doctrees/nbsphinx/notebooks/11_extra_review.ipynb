{
 "cells": [
  {
   "cell_type": "code",
   "execution_count": 2,
   "metadata": {},
   "outputs": [],
   "source": [
    "%matplotlib inline\n",
    "import matplotlib.pyplot as plt\n",
    "import numpy as np\n",
    "import pandas as pd\n",
    "import seaborn as sns"
   ]
  },
  {
   "cell_type": "markdown",
   "metadata": {},
   "source": [
    "**Know and be able to**:\n",
    "\n",
    "- Use summation formulas to evaluate finite sums\n",
    "- Use summations to determine the *mean, variance,* and *standard deviation* of data\n",
    "- Use Riemann sums to approximate area under a curve and between curves\n",
    "- Understand and use the definition of the definite integral\n",
    "- Use definite integral to find area beneath a curve, area between curves, and to find the volume of solids of revolution\n",
    "- Understand and Use the **Net Change Theorem**\n",
    "- Use the Definite Integral to determine the Gini Index given information on wealth distribution"
   ]
  },
  {
   "cell_type": "markdown",
   "metadata": {},
   "source": [
    "1. Find the area of the region bounded by the curves:\n",
    "\n",
    "- $y = x^2 \\quad \\text{and} \\quad y = 4x - x^2$\n",
    "- $y = \\frac{1}{x}, y = x^2, y = 0, x = e$"
   ]
  },
  {
   "cell_type": "markdown",
   "metadata": {},
   "source": [
    "2. Find the volume of the solid formed in the first quadrant by the line $y = 2\\sqrt{x}$ and the line $y = 6$.\n",
    "- Draw a plot of the region\n",
    "- Find the area of the region\n",
    "- Write but do not evaluate an expression for the volume of the solid formed by rotating the region about the $x$-axis."
   ]
  },
  {
   "cell_type": "markdown",
   "metadata": {},
   "source": [
    "3. Find a Riemann sum using 4 rectangles for the given function on the said interval.\n",
    "\n",
    "- $y = 3x^2 - 2x + 1$ on $[-1,1]$\n",
    "- $y = x^2\\sin(x)$ on $[0, \\pi]$"
   ]
  },
  {
   "cell_type": "markdown",
   "metadata": {},
   "source": [
    "4. For the following exercise, consider the stock market crash in 1929 in the United States. The table lists the Dow Jones industrial average per year leading up to the crash.\n",
    "\n",
    "|Years after 1920 |Value ($)|\n",
    "| ----------   | --------- |\n",
    "|1  |63.90| \n",
    "|3  |100 |\n",
    "|5  |110 |\n",
    "|7  |160 |\n",
    "|9  |381.17|\n",
    "\n",
    "- What was the average value of the stock?\n",
    "- The variance?\n",
    "- Standard Deviation?"
   ]
  },
  {
   "cell_type": "markdown",
   "metadata": {},
   "source": [
    "5. The image below represents the height of rectangles in 3D.  Use the heights to determine the volume of the solid.\n",
    "\n",
    "<center>\n",
    "    <img src = images/3d_rects.png />\n",
    "</center>"
   ]
  },
  {
   "cell_type": "markdown",
   "metadata": {},
   "source": [
    "6. Toss 6 coins.  Enumerate how many ways all outcomes of this could occur.  \n",
    "- What is the probability of getting at least 4 heads?\n",
    "- How many ways are there to get exactly 4 heads?"
   ]
  },
  {
   "cell_type": "markdown",
   "metadata": {},
   "source": [
    "7. John is a 25-year old man who weighs 160 lb. He burns  $500−50𝑡$  calories/hr while riding his bike for t hours. If an oatmeal cookie has 55 cal and John eats $4t$ cookies during the tth hour, how many net calories has he lost after 3 hours riding his bike?"
   ]
  },
  {
   "cell_type": "markdown",
   "metadata": {},
   "source": [
    "8. Suppose you go on a road trip and record your speed at every half hour, as compiled in the following table. The best quadratic fit to the data is  $𝑞(x)=5𝑥^2−11𝑥+49$,  shown in the accompanying graph. Integrate q to estimate the total distance driven over the 3 hours.\n",
    "\n",
    "|Time (hr)\t|Speed (mph)|\n",
    "| ----- | ------- |\n",
    "|0 (start)\t|50|\n",
    "|1\t|40|\n",
    "|2\t|50|\n",
    "|3\t|60|"
   ]
  },
  {
   "cell_type": "markdown",
   "metadata": {},
   "source": [
    "9. Suppose we have information on the distribution of income in the United States from 2009 as follows:\n",
    "\n",
    "| x (percentage of population) | L(x) (percent of wealth) |\n",
    "| ----- | ----- |\n",
    "| 0 | 0 |\n",
    "| 0.2 | .034 |\n",
    "| 0.4 | .12 |\n",
    "| 0.6 | .266 |\n",
    "| 0.8 | .498 |\n",
    "| 1 .  | 1 |\n",
    "\n",
    "and the following polynomial to model the data.\n",
    "\n",
    "$$L(x) = 0.17083 x − 0.70208 x^2 + 4.70833 x^3 − 6.82292x^4 + 3.64583 x^5$$\n",
    "\n",
    "Use this function to generate a plot of the perfect distribution of wealth and the polynomial distribution.  Compute the Gini Index as follows:\n",
    "\n",
    "$$G = 2\\int_0^1x - L(x) dx$$"
   ]
  }
 ],
 "metadata": {
  "kernelspec": {
   "display_name": "Python 3",
   "language": "python",
   "name": "python3"
  },
  "language_info": {
   "codemirror_mode": {
    "name": "ipython",
    "version": 3
   },
   "file_extension": ".py",
   "mimetype": "text/x-python",
   "name": "python",
   "nbconvert_exporter": "python",
   "pygments_lexer": "ipython3",
   "version": "3.7.4"
  }
 },
 "nbformat": 4,
 "nbformat_minor": 4
}
