{
 "cells": [
  {
   "cell_type": "markdown",
   "metadata": {},
   "source": [
    "<script>\n",
    "  (function(i,s,o,g,r,a,m){i['GoogleAnalyticsObject']=r;i[r]=i[r]||function(){\n",
    "  (i[r].q=i[r].q||[]).push(arguments)},i[r].l=1*new Date();a=s.createElement(o),\n",
    "  m=s.getElementsByTagName(o)[0];a.async=1;a.src=g;m.parentNode.insertBefore(a,m)\n",
    "  })(window,document,'script','https://www.google-analytics.com/analytics.js','ga');\n",
    "\n",
    "  ga('create', 'UA-50838873-3', 'auto');\n",
    "  ga('send', 'pageview');\n",
    "\n",
    "</script>"
   ]
  },
  {
   "cell_type": "markdown",
   "metadata": {},
   "source": [
    "# Game Theory and Optimization"
   ]
  },
  {
   "cell_type": "code",
   "execution_count": 3,
   "metadata": {
    "deletable": true,
    "editable": true
   },
   "outputs": [],
   "source": [
    "%matplotlib inline\n",
    "import matplotlib.pyplot as plt\n",
    "import numpy as np\n",
    "import sympy as sy\n",
    "from matplotlib import patches"
   ]
  },
  {
   "cell_type": "markdown",
   "metadata": {},
   "source": [
    "\n",
    "# The Product Rule\n",
    "\n",
    "$$h(x) = f(x) g(x) \\quad h'(x) = f(x) g'(x) + f'(x) g(x)$$"
   ]
  },
  {
   "cell_type": "markdown",
   "metadata": {},
   "source": [
    "<div></div>\n",
    "<div></div>\n",
    "<div></div><div></div>\n",
    "\n",
    "<div></div>\n",
    "\n",
    "<div></div>\n",
    "\n",
    "<div></div>\n",
    "    \n",
    "    \n",
    "    \n",
    "    \n",
    "    \n",
    "    \n",
    "    \n",
    "    \n",
    "    \n",
    "    \n",
    "    \n",
    "    \n",
    "    \n",
    "    \n",
    "    \n",
    "    \n",
    "    \n",
    "    \n",
    "    \n",
    "    \n",
    "    \n",
    "    \n",
    "    "
   ]
  },
  {
   "cell_type": "code",
   "execution_count": null,
   "metadata": {},
   "outputs": [],
   "source": []
  },
  {
   "cell_type": "code",
   "execution_count": null,
   "metadata": {},
   "outputs": [],
   "source": []
  },
  {
   "cell_type": "markdown",
   "metadata": {},
   "source": [
    "# Extreme Values on Closed Intervals"
   ]
  },
  {
   "cell_type": "markdown",
   "metadata": {},
   "source": [
    "<div class=\"alert alert-info\">\n",
    "  <strong style = {color = 'white'}>Extreme Values on Closed Intervals</strong> \n",
    "    Assume that $f(x)$ is continuus on $[a, b]$ and let $f(c)$ be the minimum or maximum value on $[a, b]$.  The $c$ is either a critical point or one of the endpoints $a$ or $b$."
   ]
  },
  {
   "cell_type": "markdown",
   "metadata": {},
   "source": [
    "**EX**: $f(x) = 2x^3 - 15x^2 + 24x + 7$ on $[0,6]$"
   ]
  },
  {
   "cell_type": "code",
   "execution_count": 27,
   "metadata": {},
   "outputs": [],
   "source": [
    "def f(x):\n",
    "    return 2*x**3 - 15*x**2 + 24*x + 7\n",
    "\n",
    "x = np.linspace(0, 6, 1000)"
   ]
  },
  {
   "cell_type": "code",
   "execution_count": 31,
   "metadata": {},
   "outputs": [
    {
     "data": {
      "text/plain": [
       "[<matplotlib.lines.Line2D at 0x7f84c255f990>]"
      ]
     },
     "execution_count": 31,
     "metadata": {},
     "output_type": "execute_result"
    },
    {
     "data": {
      "image/png": "[encoded data removed]",
      "text/plain": [
       "<Figure size 432x288 with 1 Axes>"
      ]
     },
     "metadata": {
      "needs_background": "light"
     },
     "output_type": "display_data"
    }
   ],
   "source": [
    "plt.plot(x, f(x))\n",
    "plt.plot(0, f(0), 'ro')\n",
    "plt.plot(6, f(6), 'ro')"
   ]
  },
  {
   "cell_type": "code",
   "execution_count": 32,
   "metadata": {},
   "outputs": [],
   "source": [
    "options = [0, 1, 4, 6]\n",
    "possible_max_min = [f(0), f(1), f(4), f(6)]"
   ]
  },
  {
   "cell_type": "code",
   "execution_count": 33,
   "metadata": {},
   "outputs": [],
   "source": [
    "import pandas as pd"
   ]
  },
  {
   "cell_type": "code",
   "execution_count": 34,
   "metadata": {},
   "outputs": [
    {
     "data": {
      "text/html": [
       "<div>\n",
       "<style scoped>\n",
       "    .dataframe tbody tr th:only-of-type {\n",
       "        vertical-align: middle;\n",
       "    }\n",
       "\n",
       "    .dataframe tbody tr th {\n",
       "        vertical-align: top;\n",
       "    }\n",
       "\n",
       "    .dataframe thead th {\n",
       "        text-align: right;\n",
       "    }\n",
       "</style>\n",
       "<table border=\"1\" class=\"dataframe\">\n",
       "  <thead>\n",
       "    <tr style=\"text-align: right;\">\n",
       "      <th></th>\n",
       "      <th>options</th>\n",
       "      <th>max_min?</th>\n",
       "    </tr>\n",
       "  </thead>\n",
       "  <tbody>\n",
       "    <tr>\n",
       "      <td>0</td>\n",
       "      <td>0</td>\n",
       "      <td>7</td>\n",
       "    </tr>\n",
       "    <tr>\n",
       "      <td>1</td>\n",
       "      <td>1</td>\n",
       "      <td>18</td>\n",
       "    </tr>\n",
       "    <tr>\n",
       "      <td>2</td>\n",
       "      <td>4</td>\n",
       "      <td>-9</td>\n",
       "    </tr>\n",
       "    <tr>\n",
       "      <td>3</td>\n",
       "      <td>6</td>\n",
       "      <td>43</td>\n",
       "    </tr>\n",
       "  </tbody>\n",
       "</table>\n",
       "</div>"
      ],
      "text/plain": [
       "   options  max_min?\n",
       "0        0         7\n",
       "1        1        18\n",
       "2        4        -9\n",
       "3        6        43"
      ]
     },
     "execution_count": 34,
     "metadata": {},
     "output_type": "execute_result"
    }
   ],
   "source": [
    "pd.DataFrame({'options': options, 'max_min?': possible_max_min})"
   ]
  },
  {
   "cell_type": "code",
   "execution_count": null,
   "metadata": {},
   "outputs": [],
   "source": []
  },
  {
   "cell_type": "code",
   "execution_count": null,
   "metadata": {},
   "outputs": [],
   "source": []
  },
  {
   "cell_type": "code",
   "execution_count": null,
   "metadata": {},
   "outputs": [],
   "source": []
  },
  {
   "cell_type": "markdown",
   "metadata": {},
   "source": [
    "**Ex**: Maximum of $f(x) = 1 - ( x - 1)^{2/3}$ on $[-1, 2]$"
   ]
  },
  {
   "cell_type": "code",
   "execution_count": 46,
   "metadata": {},
   "outputs": [],
   "source": [
    "def f(x): return 1-(x-1)**(2/3)"
   ]
  },
  {
   "cell_type": "code",
   "execution_count": 47,
   "metadata": {},
   "outputs": [
    {
     "name": "stderr",
     "output_type": "stream",
     "text": [
      "/Users/jacobkoehler/opt/anaconda3/lib/python3.7/site-packages/ipykernel_launcher.py:1: RuntimeWarning: invalid value encountered in power\n",
      "  \"\"\"Entry point for launching an IPython kernel.\n"
     ]
    },
    {
     "data": {
      "text/plain": [
       "[<matplotlib.lines.Line2D at 0x7f84a18b34d0>]"
      ]
     },
     "execution_count": 47,
     "metadata": {},
     "output_type": "execute_result"
    },
    {
     "data": {
      "image/png": "[encoded data removed]",
      "text/plain": [
       "<Figure size 432x288 with 1 Axes>"
      ]
     },
     "metadata": {
      "needs_background": "light"
     },
     "output_type": "display_data"
    }
   ],
   "source": [
    "x = np.linspace(-1, 2, 100)\n",
    "plt.plot(x, f(x))"
   ]
  },
  {
   "cell_type": "code",
   "execution_count": 48,
   "metadata": {},
   "outputs": [
    {
     "data": {
      "text/plain": [
       "(1.7937005259840992-1.3747296369986028j)"
      ]
     },
     "execution_count": 48,
     "metadata": {},
     "output_type": "execute_result"
    }
   ],
   "source": [
    "f(-1)"
   ]
  },
  {
   "cell_type": "code",
   "execution_count": 49,
   "metadata": {},
   "outputs": [
    {
     "data": {
      "text/plain": [
       "1.0"
      ]
     },
     "execution_count": 49,
     "metadata": {},
     "output_type": "execute_result"
    }
   ],
   "source": [
    "f(1)"
   ]
  },
  {
   "cell_type": "code",
   "execution_count": 50,
   "metadata": {},
   "outputs": [
    {
     "data": {
      "text/plain": [
       "0.0"
      ]
     },
     "execution_count": 50,
     "metadata": {},
     "output_type": "execute_result"
    }
   ],
   "source": [
    "f(2)"
   ]
  },
  {
   "cell_type": "code",
   "execution_count": null,
   "metadata": {},
   "outputs": [],
   "source": []
  },
  {
   "cell_type": "markdown",
   "metadata": {
    "deletable": true,
    "editable": true
   },
   "source": [
    "# Arbitrating Disputes with John Nash\n",
    "\n",
    "This notebook introduces the use of max/min problems in arbitrating a dispute between two parties.  For example, suppose you have a bachelor or bachelorette party to plan.  The parties involved will likely have different opinions to how and where the participants think the days and nights should be spent.  Is there a way to determine an outcome that is most amenable to all?\n",
    "\n",
    "Mathematician John Nash believed there was, and he deployed a method that relied on maximizing a product of values, much like Fermat's original problem.  Now, however, Nash's quantities represented peoples preferences for certain outcomes.  This ideal solution is referred to as the Nash Equilibrium, found using the calculus of maximums and minimums of products.\n",
    "\n",
    "![](http://i.dailymail.co.uk/i/pix/2015/05/24/15/290874A900000578-3095059-image-a-35_1432478026946.jpg)"
   ]
  },
  {
   "cell_type": "markdown",
   "metadata": {
    "deletable": true,
    "editable": true
   },
   "source": [
    "## First Example\n",
    "\n",
    "Let's suppose you are planning a weekend away with a friend.  You have three choices:\n",
    "\n",
    "- Stay in city and do nothing (S)\n",
    "\n",
    "- Bike upstate and go camping (C)\n",
    "\n",
    "- Go to Rockaways for weekend (B)\n",
    "\n",
    "You and your friend have different preferences for these, and could measure them by assigning some numeric value to each choice.  We call these *utilities*.  For example, we can denote your utility as $u_y$ and your friends utilities as $u_f$.  If you were to assign values to each of these choices, the result may look something like:\n",
    "\n",
    "$$u_y(C) = 2 \\quad u_y(S) = 5 \\quad u_y(B) = 7$$\n",
    "\n",
    "and for your friend\n",
    "\n",
    "$$u_f(C) = 1 \\quad u_f(S) = 3 \\quad u_f(B) = 6$$"
   ]
  },
  {
   "cell_type": "code",
   "execution_count": 4,
   "metadata": {
    "deletable": true,
    "editable": true
   },
   "outputs": [],
   "source": [
    "uy = [2, 5, 7]\n",
    "uf = [1, 3, 6]"
   ]
  },
  {
   "cell_type": "code",
   "execution_count": 5,
   "metadata": {
    "collapsed": false,
    "deletable": true,
    "editable": true,
    "jupyter": {
     "outputs_hidden": false
    }
   },
   "outputs": [
    {
     "data": {
      "text/plain": [
       "array([3, 2])"
      ]
     },
     "execution_count": 5,
     "metadata": {},
     "output_type": "execute_result"
    }
   ],
   "source": [
    "np.diff(uy)"
   ]
  },
  {
   "cell_type": "markdown",
   "metadata": {
    "deletable": true,
    "editable": true
   },
   "source": [
    "Thus, we have the relationship:\n",
    "\n",
    "$$u_y(C) - u_y(S) = 3$$\n",
    "\n",
    "$$u_y(B) - u_y(C) = 2$$\n",
    "\n",
    "If you think about when these would be the same, you would have to multiply the second equation by $3/2$.  You can interpret this as saying that your preference for going camping is one and a half times greater than your preference for going to the beach."
   ]
  },
  {
   "cell_type": "code",
   "execution_count": 6,
   "metadata": {
    "collapsed": false,
    "deletable": true,
    "editable": true,
    "jupyter": {
     "outputs_hidden": false
    }
   },
   "outputs": [
    {
     "data": {
      "text/plain": [
       "array([2, 3])"
      ]
     },
     "execution_count": 6,
     "metadata": {},
     "output_type": "execute_result"
    }
   ],
   "source": [
    "np.diff(uf)"
   ]
  },
  {
   "cell_type": "markdown",
   "metadata": {
    "deletable": true,
    "editable": true
   },
   "source": [
    "Seems we have the exact opposite outcome for your friend.  \n",
    "\n",
    "We can also see from this that preferences needn't be the exact same values for them to represent the same preference.\n",
    "\n",
    "Accordingly, we will say that two utilities $u$ and $v$ are equivalent when you have numbers $a$ and $b$ such that $v = au + b$.\n",
    "\n",
    "For example, the utilities:\n",
    "\n",
    "$$u_j(C) = 3 \\quad u_j(S) = 5 \\quad u_j(B) = 9$$\n",
    "\n",
    "and \n",
    "\n",
    "$$u_k(C) = 3 \\quad u_j(S) = 7 \\quad u_j(B) = 15$$\n",
    "\n",
    "are equivalent because:\n",
    "\n",
    "$$u_k = 2u_j - 3$$\n",
    "\n"
   ]
  },
  {
   "cell_type": "markdown",
   "metadata": {},
   "source": [
    "#### PROBLEM\n",
    "\n",
    "Which of the following is equivalent to:\n",
    "\n",
    "$$u_F(B) = 10 \\quad u_F(SQ) = 3 \\quad u_F(M) = 2$$\n",
    "\n",
    "---\n",
    "\n",
    "\n",
    "- $v_F(B) = 10 \\quad v_F(SQ) = -4 \\quad v_F(M) = -6$\n",
    "\n",
    "- $w_F(B) = 20 \\quad w_F(SQ) = 2 \\quad w_F(M) = -1 $"
   ]
  },
  {
   "cell_type": "code",
   "execution_count": null,
   "metadata": {},
   "outputs": [],
   "source": []
  },
  {
   "cell_type": "code",
   "execution_count": null,
   "metadata": {},
   "outputs": [],
   "source": []
  },
  {
   "cell_type": "code",
   "execution_count": null,
   "metadata": {},
   "outputs": [],
   "source": []
  },
  {
   "cell_type": "markdown",
   "metadata": {
    "deletable": true,
    "editable": true
   },
   "source": [
    "## Payoff Polygon\n",
    "\n",
    "We are able to visualize the preferences of two parties by assinging an axis to each participant, and plotting the corresponding utility for each choice as an ordered pair. Before we do this, we want to *normalize* the utilities by creating a common base value around one option.  We can use the $S$ to normalize the first utilities as:\n",
    "\n",
    "$$u_y(C) = -3 \\quad u_y(S) = 0 \\quad u_y(B) = 2$$\n",
    "\n",
    "and \n",
    "\n",
    "$$u_f(C) = -2 \\quad u_f(S) = 0 \\quad u_f(B) = 3$$\n",
    "\n",
    "For example, consider our first example with $u_f$ and $u_y$.  We will plot $u_f$ as the $x$ coordinates and $u_y$ as the $y$ coordinates."
   ]
  },
  {
   "cell_type": "code",
   "execution_count": 7,
   "metadata": {
    "collapsed": false,
    "deletable": true,
    "editable": true,
    "jupyter": {
     "outputs_hidden": false
    }
   },
   "outputs": [],
   "source": [
    "C = [-3, -2]\n",
    "S = [0, 0]\n",
    "B = [2, 3]"
   ]
  },
  {
   "cell_type": "code",
   "execution_count": 8,
   "metadata": {
    "collapsed": false,
    "deletable": true,
    "editable": true,
    "jupyter": {
     "outputs_hidden": false
    }
   },
   "outputs": [],
   "source": [
    "a = np.array([C, S, B])"
   ]
  },
  {
   "cell_type": "code",
   "execution_count": 9,
   "metadata": {
    "collapsed": false,
    "deletable": true,
    "editable": true,
    "jupyter": {
     "outputs_hidden": false
    }
   },
   "outputs": [
    {
     "data": {
      "text/plain": [
       "(3, 2)"
      ]
     },
     "execution_count": 9,
     "metadata": {},
     "output_type": "execute_result"
    }
   ],
   "source": [
    "np.shape(a)"
   ]
  },
  {
   "cell_type": "code",
   "execution_count": 10,
   "metadata": {
    "collapsed": false,
    "deletable": true,
    "editable": true,
    "jupyter": {
     "outputs_hidden": false
    }
   },
   "outputs": [
    {
     "data": {
      "text/plain": [
       "Text(0.5, 1.0, 'Payoff Polygon')"
      ]
     },
     "execution_count": 10,
     "metadata": {},
     "output_type": "execute_result"
    },
    {
     "data": {
      "image/png": "[encoded data removed]",
      "text/plain": [
       "<Figure size 576x360 with 1 Axes>"
      ]
     },
     "metadata": {
      "needs_background": "light"
     },
     "output_type": "display_data"
    }
   ],
   "source": [
    "fig1 = plt.figure(figsize = (8, 5))\n",
    "ax1 = fig1.add_subplot(111)\n",
    "ax1.add_patch(patches.Polygon(a, fill = False))\n",
    "\n",
    "\n",
    "plt.xlim(-4, 4)\n",
    "plt.ylim(-3, 4)\n",
    "plt.axhline()\n",
    "plt.axvline()\n",
    "plt.title(\"Payoff Polygon\")"
   ]
  },
  {
   "cell_type": "markdown",
   "metadata": {
    "deletable": true,
    "editable": true
   },
   "source": [
    "The ideal outcome here should be fairly obvious, as both participants showed a clear preference for the beach.  Suppose however, we reverse the scenario, and now have your friends preferences inverted from yours.\n",
    "\n",
    "$$u_y(C) = -1 \\quad u_y(S) = 0 \\quad u_y(B) = 3$$\n",
    "\n",
    "$$u_f(C) = 2 \\quad u_f(S) = 0 \\quad u_f(B) = -1$$\n",
    "\n"
   ]
  },
  {
   "cell_type": "code",
   "execution_count": 11,
   "metadata": {
    "deletable": true,
    "editable": true
   },
   "outputs": [],
   "source": [
    "C = [-1, 2]\n",
    "S = [0,0]\n",
    "B = [3, -1]\n",
    "a = np.array([C, S, B])"
   ]
  },
  {
   "cell_type": "code",
   "execution_count": 12,
   "metadata": {
    "collapsed": false,
    "deletable": true,
    "editable": true,
    "jupyter": {
     "outputs_hidden": false
    }
   },
   "outputs": [
    {
     "data": {
      "text/plain": [
       "Text(0.5, 1.0, 'Payoff Polygon II')"
      ]
     },
     "execution_count": 12,
     "metadata": {},
     "output_type": "execute_result"
    },
    {
     "data": {
      "image/png": "[encoded data removed]",
      "text/plain": [
       "<Figure size 576x360 with 1 Axes>"
      ]
     },
     "metadata": {
      "needs_background": "light"
     },
     "output_type": "display_data"
    }
   ],
   "source": [
    "fig1 = plt.figure(figsize = (8, 5))\n",
    "ax1 = fig1.add_subplot(111)\n",
    "ax1.add_patch(patches.Polygon(a, fill = False))\n",
    "\n",
    "\n",
    "plt.xlim(-4, 4)\n",
    "plt.ylim(-3, 4)\n",
    "plt.axhline()\n",
    "plt.axvline()\n",
    "plt.title(\"Payoff Polygon II\")"
   ]
  },
  {
   "cell_type": "markdown",
   "metadata": {
    "deletable": true,
    "editable": true
   },
   "source": [
    "If we consider the solutions here, we note that for both participants we have normalized these values so that the preference for $S$ is 0.  Hence, any solution should have better outcomes than this, which would mean it has positive values of $x$ and $y$.  This is called the Pareto condition formally, but it should make intuitive sense.\n",
    "\n",
    "Additionally, Nash proposed other important criteria for a fair solution and determine that *there is exactly one arbitration solution that satisfies these conditions*:\n",
    "\n",
    "\n",
    "$~$\n",
    "\n",
    "<div class=\"alert alert-info\">\n",
    "  <strong style = {color = 'white'}>Nash's Theorem</strong> \n",
    "  \n",
    "  \n",
    "  \n",
    "<li> if there are no points in $P$ with $x > 0$ or $y > 0$, let $N = (0, 0)$.</li>\n",
    "\n",
    "\n",
    "\n",
    "<li> if there are no points in $P$ with $y > 0$, but are points with $y = 0$ and $x > 0$, then let $N$ be the point $(x, 0)$ which maximizes $x$.  Handle the case with $x$ and $y$ interchanged similarly. </li>\n",
    "\n",
    "\n",
    "\n",
    "<li> if there are points in $P$ with both $x > 0$ and $y>0$, let $N$ be the point with $X > 0$ and $y > 0$ which maximizes the product $xy$.\n",
    "</div>\n",
    "\n",
    "Focus on the last criteria.  Nash claims that the ideal solution to the problem is the maximum of $xy$ in the first quadrant.  Let's just consider this region.\n"
   ]
  },
  {
   "cell_type": "code",
   "execution_count": 13,
   "metadata": {
    "collapsed": false,
    "deletable": true,
    "editable": true,
    "jupyter": {
     "outputs_hidden": false
    }
   },
   "outputs": [
    {
     "data": {
      "text/plain": [
       "Text(0.5, 1.0, 'Payoff Polygon in the First Quadrant')"
      ]
     },
     "execution_count": 13,
     "metadata": {},
     "output_type": "execute_result"
    },
    {
     "data": {
      "image/png": "[encoded data removed]",
      "text/plain": [
       "<Figure size 576x360 with 1 Axes>"
      ]
     },
     "metadata": {
      "needs_background": "light"
     },
     "output_type": "display_data"
    }
   ],
   "source": [
    "fig1 = plt.figure(figsize = (8, 5))\n",
    "ax1 = fig1.add_subplot(111)\n",
    "ax1.add_patch(patches.Polygon(a, fill = False))\n",
    "\n",
    "\n",
    "plt.xlim(0, 2)\n",
    "plt.ylim(0, 1.5)\n",
    "plt.title(\"Payoff Polygon in the First Quadrant\")"
   ]
  },
  {
   "cell_type": "markdown",
   "metadata": {
    "deletable": true,
    "editable": true
   },
   "source": [
    "The question is where is the maximum of $xy$ here?\n",
    "\n",
    "We can use our maximization work to answer this.  First however, we want to express $y$ in terms of $x$ or vice versa so we have an easier expression to deal with.\n",
    "\n",
    "The line segment we see above is the result of drawing a straight line through the points $(-1, 2)$ and $(3, -1)$. We will write an equation for a line through these two points.\n",
    "\n",
    "We will spend some time here as this is an important skill for us to remember from our work with sequences."
   ]
  },
  {
   "cell_type": "markdown",
   "metadata": {
    "deletable": true,
    "editable": true
   },
   "source": [
    "### Equation of lines\n",
    "\n",
    "This is essentially the same as our slope terminology for a linear function, and we can use the point slope form of a linear equation to get the equation.\n",
    "\n",
    "$$y = m(x - x_1) + y_2$$\n",
    "\n",
    "$$ y = \\frac{-3}{4}(x - (-1)) + 2$$"
   ]
  },
  {
   "cell_type": "code",
   "execution_count": 14,
   "metadata": {
    "deletable": true,
    "editable": true
   },
   "outputs": [],
   "source": [
    "x, y = sy.symbols('x y')"
   ]
  },
  {
   "cell_type": "code",
   "execution_count": 15,
   "metadata": {
    "collapsed": false,
    "deletable": true,
    "editable": true,
    "jupyter": {
     "outputs_hidden": false
    }
   },
   "outputs": [],
   "source": [
    "y = -3/4*(x - (-1)) + 2"
   ]
  },
  {
   "cell_type": "code",
   "execution_count": 16,
   "metadata": {
    "collapsed": false,
    "deletable": true,
    "editable": true,
    "jupyter": {
     "outputs_hidden": false
    }
   },
   "outputs": [
    {
     "data": {
      "text/latex": [
       "$\\displaystyle 1.25 - 0.75 x$"
      ],
      "text/plain": [
       "1.25 - 0.75*x"
      ]
     },
     "execution_count": 16,
     "metadata": {},
     "output_type": "execute_result"
    }
   ],
   "source": [
    "y"
   ]
  },
  {
   "cell_type": "code",
   "execution_count": 17,
   "metadata": {
    "deletable": true,
    "editable": true
   },
   "outputs": [],
   "source": [
    "def f(x):\n",
    "    return -0.75*x + 1.25"
   ]
  },
  {
   "cell_type": "code",
   "execution_count": 18,
   "metadata": {
    "collapsed": false,
    "deletable": true,
    "editable": true,
    "jupyter": {
     "outputs_hidden": false
    }
   },
   "outputs": [
    {
     "data": {
      "text/plain": [
       "<matplotlib.lines.Line2D at 0x7f84c2389990>"
      ]
     },
     "execution_count": 18,
     "metadata": {},
     "output_type": "execute_result"
    },
    {
     "data": {
      "image/png": "[encoded data removed]",
      "text/plain": [
       "<Figure size 432x288 with 1 Axes>"
      ]
     },
     "metadata": {
      "needs_background": "light"
     },
     "output_type": "display_data"
    }
   ],
   "source": [
    "x = np.linspace(0, 2, 100)\n",
    "plt.plot(x, f(x))\n",
    "plt.axhline(color = 'black')\n",
    "plt.axvline(color = 'black')"
   ]
  },
  {
   "cell_type": "markdown",
   "metadata": {
    "deletable": true,
    "editable": true
   },
   "source": [
    "Thus, our problem has become maximizing $xy$ or $x(\\frac{-3}{4}x + \\frac{5}{4})$."
   ]
  },
  {
   "cell_type": "code",
   "execution_count": 19,
   "metadata": {
    "deletable": true,
    "editable": true
   },
   "outputs": [],
   "source": [
    "def p(x):\n",
    "    return x*f(x)"
   ]
  },
  {
   "cell_type": "code",
   "execution_count": 20,
   "metadata": {
    "collapsed": false,
    "deletable": true,
    "editable": true,
    "jupyter": {
     "outputs_hidden": false
    }
   },
   "outputs": [
    {
     "data": {
      "text/plain": [
       "<matplotlib.lines.Line2D at 0x7f84c23f5f90>"
      ]
     },
     "execution_count": 20,
     "metadata": {},
     "output_type": "execute_result"
    },
    {
     "data": {
      "image/png": "[encoded data removed]",
      "text/plain": [
       "<Figure size 432x288 with 1 Axes>"
      ]
     },
     "metadata": {
      "needs_background": "light"
     },
     "output_type": "display_data"
    }
   ],
   "source": [
    "x = np.linspace(0, 2, 100)\n",
    "plt.plot(x, p(x))\n",
    "plt.axhline(color = 'black')"
   ]
  },
  {
   "cell_type": "code",
   "execution_count": 21,
   "metadata": {
    "deletable": true,
    "editable": true
   },
   "outputs": [],
   "source": [
    "x = sy.Symbol('x')"
   ]
  },
  {
   "cell_type": "code",
   "execution_count": 22,
   "metadata": {
    "collapsed": false,
    "deletable": true,
    "editable": true,
    "jupyter": {
     "outputs_hidden": false
    }
   },
   "outputs": [],
   "source": [
    "eq = sy.diff(p(x), x)"
   ]
  },
  {
   "cell_type": "code",
   "execution_count": 23,
   "metadata": {
    "collapsed": false,
    "deletable": true,
    "editable": true,
    "jupyter": {
     "outputs_hidden": false
    }
   },
   "outputs": [
    {
     "data": {
      "text/plain": [
       "[0.833333333333333]"
      ]
     },
     "execution_count": 23,
     "metadata": {},
     "output_type": "execute_result"
    }
   ],
   "source": [
    "sy.solve(eq)"
   ]
  },
  {
   "cell_type": "code",
   "execution_count": 24,
   "metadata": {
    "collapsed": false,
    "deletable": true,
    "editable": true,
    "jupyter": {
     "outputs_hidden": false
    }
   },
   "outputs": [
    {
     "data": {
      "text/plain": [
       "[<matplotlib.lines.Line2D at 0x7f847072f110>]"
      ]
     },
     "execution_count": 24,
     "metadata": {},
     "output_type": "execute_result"
    },
    {
     "data": {
      "image/png": "[encoded data removed]",
      "text/plain": [
       "<Figure size 432x288 with 1 Axes>"
      ]
     },
     "metadata": {
      "needs_background": "light"
     },
     "output_type": "display_data"
    }
   ],
   "source": [
    "x = np.linspace(0, 2, 100)\n",
    "plt.plot(x, p(x))\n",
    "plt.axhline(color = 'black')\n",
    "plt.plot(0.83333, p(0.8333), 'o', markersize = 10, alpha = 0.8)"
   ]
  },
  {
   "cell_type": "code",
   "execution_count": 25,
   "metadata": {
    "collapsed": false,
    "deletable": true,
    "editable": true,
    "jupyter": {
     "outputs_hidden": false
    }
   },
   "outputs": [
    {
     "data": {
      "text/plain": [
       "0.62500000025"
      ]
     },
     "execution_count": 25,
     "metadata": {},
     "output_type": "execute_result"
    }
   ],
   "source": [
    "f(0.833333333)"
   ]
  },
  {
   "cell_type": "code",
   "execution_count": 26,
   "metadata": {
    "collapsed": false,
    "deletable": true,
    "editable": true,
    "jupyter": {
     "outputs_hidden": false
    }
   },
   "outputs": [
    {
     "data": {
      "text/plain": [
       "Text(0.5, 1.0, 'Payoff Polygon II')"
      ]
     },
     "execution_count": 26,
     "metadata": {},
     "output_type": "execute_result"
    },
    {
     "data": {
      "image/png": "[encoded data removed]",
      "text/plain": [
       "<Figure size 576x360 with 1 Axes>"
      ]
     },
     "metadata": {
      "needs_background": "light"
     },
     "output_type": "display_data"
    }
   ],
   "source": [
    "fig1 = plt.figure(figsize = (8, 5))\n",
    "ax1 = fig1.add_subplot(111)\n",
    "ax1.add_patch(patches.Polygon(a, fill = False))\n",
    "plt.plot(0.833333, f(0.83333333), 'o', markersize = 10, label = (0.833, 0.625))\n",
    "plt.legend()\n",
    "\n",
    "plt.xlim(-4, 4)\n",
    "plt.ylim(-3, 4)\n",
    "plt.axhline()\n",
    "plt.axvline()\n",
    "plt.title(\"Payoff Polygon II\")"
   ]
  },
  {
   "cell_type": "markdown",
   "metadata": {
    "deletable": true,
    "editable": true
   },
   "source": [
    "### Interpreting the Solution\n",
    "\n",
    "Thus, there is not a clear choice that wins, and instead we are at a solution somewhere between the beach and mountains.  This could be understood as a lottery situation where we have some mixture of possibilities beach and mountain.  We deine a lottery as follows:\n",
    "\n",
    "**Lottery**: Some lottery $L$ between outcomes $A$ and $B$, with probability $p$ of $A$ and $1-p$ for $B$.  Then, for any utility function $u$ the utility of the lottery is \n",
    "\n",
    "$$u(L) = pu(A) + (1 - p)(u(B))$$\n",
    "\n",
    "Thus, in the example above, our $u$ is the line we see the point on, and which we defined earlier.  \n",
    "\n",
    "$$u_y(L) = pu_y(B) + (1 - p)u_y(M)$$\n",
    "\n",
    "$$u_f(L) = pu_f(B) + (1 - p)u_y(M)$$\n",
    "\n",
    "or \n",
    "\n",
    "$$0.833 = p(-1) + (1-p)(3)$$\n",
    "\n",
    "$$0.625 = p(2) + (1-p)(-1)$$\n",
    "\n",
    "We can solve either one of these to obtain our $p$."
   ]
  },
  {
   "cell_type": "code",
   "execution_count": 168,
   "metadata": {
    "collapsed": false,
    "deletable": true,
    "editable": true,
    "jupyter": {
     "outputs_hidden": false
    }
   },
   "outputs": [],
   "source": [
    "p = sy.Symbol('p')\n",
    "eq = -1*p + (1-p)*3 - 0.833\n",
    "p = sy.solve(eq)"
   ]
  },
  {
   "cell_type": "code",
   "execution_count": 169,
   "metadata": {
    "collapsed": false,
    "deletable": true,
    "editable": true,
    "jupyter": {
     "outputs_hidden": false
    }
   },
   "outputs": [
    {
     "data": {
      "text/plain": [
       "[0.541750000000000]"
      ]
     },
     "execution_count": 169,
     "metadata": {},
     "output_type": "execute_result"
    }
   ],
   "source": [
    "p"
   ]
  },
  {
   "cell_type": "markdown",
   "metadata": {
    "deletable": true,
    "editable": true
   },
   "source": [
    " "
   ]
  },
  {
   "cell_type": "code",
   "execution_count": 170,
   "metadata": {
    "collapsed": false,
    "deletable": true,
    "editable": true,
    "jupyter": {
     "outputs_hidden": false
    }
   },
   "outputs": [
    {
     "data": {
      "text/plain": [
       "list"
      ]
     },
     "execution_count": 170,
     "metadata": {},
     "output_type": "execute_result"
    }
   ],
   "source": [
    "type(p)"
   ]
  },
  {
   "cell_type": "code",
   "execution_count": 171,
   "metadata": {
    "collapsed": false,
    "deletable": true,
    "editable": true,
    "jupyter": {
     "outputs_hidden": false
    }
   },
   "outputs": [],
   "source": [
    "p.append(1-p[0])"
   ]
  },
  {
   "cell_type": "code",
   "execution_count": 172,
   "metadata": {
    "collapsed": false,
    "deletable": true,
    "editable": true,
    "jupyter": {
     "outputs_hidden": false
    }
   },
   "outputs": [
    {
     "data": {
      "text/plain": [
       "[0.541750000000000, 0.458250000000000]"
      ]
     },
     "execution_count": 172,
     "metadata": {},
     "output_type": "execute_result"
    }
   ],
   "source": [
    "p"
   ]
  },
  {
   "cell_type": "markdown",
   "metadata": {
    "deletable": true,
    "editable": true
   },
   "source": [
    "Thus, if we have a lottery where the probability of beach is near 0.54 and the mountains is 0.46, we would have the best solution."
   ]
  }
 ],
 "metadata": {
  "kernelspec": {
   "display_name": "Python 3",
   "language": "python",
   "name": "python3"
  },
  "language_info": {
   "codemirror_mode": {
    "name": "ipython",
    "version": 3
   },
   "file_extension": ".py",
   "mimetype": "text/x-python",
   "name": "python",
   "nbconvert_exporter": "python",
   "pygments_lexer": "ipython3",
   "version": "3.7.4"
  },
  "widgets": {
   "application/vnd.jupyter.widget-state+json": {
    "state": {},
    "version_major": 2,
    "version_minor": 0
   }
  }
 },
 "nbformat": 4,
 "nbformat_minor": 4
}
