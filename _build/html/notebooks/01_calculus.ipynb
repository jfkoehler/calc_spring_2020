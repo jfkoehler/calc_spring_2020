{
 "cells": [
  {
   "cell_type": "markdown",
   "metadata": {
    "colab_type": "text",
    "id": "LzE4_h_uiPCE"
   },
   "source": [
    "# Problem Set I\n",
    "\n",
    "You are to either write your completed solution in the solution cell if it is a text based question and code if it is a code question."
   ]
  },
  {
   "cell_type": "markdown",
   "metadata": {
    "colab_type": "text",
    "id": "jd620PQtimbA"
   },
   "source": [
    "### Question 1: Addition\n",
    "\n",
    "- What kind of number will an even number plus an even number return; even or odd?  Why?\n",
    "- What is the sum of an even number and odd number?  Explain.\n"
   ]
  },
  {
   "cell_type": "markdown",
   "metadata": {
    "colab_type": "text",
    "id": "qO4F4_QDjMrf"
   },
   "source": [
    "### Question 2: Multiplication\n",
    "\n",
    "\n",
    "\n",
    "*   What kind of number will an even number times an even number return?  Explain.\n",
    "*   Odd times Odd?\n",
    "- Even times Odd?\n",
    "\n"
   ]
  },
  {
   "cell_type": "markdown",
   "metadata": {
    "colab_type": "text",
    "id": "lTnqGl94jfpa"
   },
   "source": [
    "### Question 3: Descartes\n",
    "\n",
    "Read through the first 10 pages of Descartes Geometry [here](https://archive.org/details/TheGeometry/page/n13).  Your goal is to first understand his visual approach to multiplication and square root extraction.  Use his approach to demonstrate:\n",
    "\n",
    "- Construction of $3 \\times 4$\n",
    "- Construction of $\\sqrt{7}$ ([here](https://www.maa.org/press/periodicals/convergence/descartes-method-for-constructing-roots-of-polynomials-with-simple-curves-history-of-constructing) is an extra visual for this)"
   ]
  },
  {
   "cell_type": "markdown",
   "metadata": {
    "colab_type": "text",
    "id": "MOTcWdpLnG5R"
   },
   "source": [
    "### Question 4: Babylonian Algorithm for Square Root\n",
    "\n",
    "Read the Wikipedia entry on the Babylonian square root algorithm [here](https://en.wikipedia.org/wiki/Methods_of_computing_square_roots#Babylonian_method).  Why is it so that \"if x is an overestimate to the square root of a non-negative real number S then $\\frac{S}{x}$ is an underestimate\"? How do we use this to approximate $\\sqrt{2}$?\n",
    "\n",
    " "
   ]
  },
  {
   "cell_type": "markdown",
   "metadata": {
    "colab_type": "text",
    "id": "tgSTNy3an0GU"
   },
   "source": [
    "### Question 5: Functions with Python\n",
    "\n",
    "Make sure you have reviewed the earlier videos.  Use these and the example code below to answer the following questions.\n",
    "\n",
    "1. Represent the functions described in words below in symbols, tables, and plots using Python.  For your tables, you will make a `DataFrame` with `Pandas`, for your symbolic representation you should use LaTeX in a text cell, and for your graph you should use `matplotlib`.\n",
    "\n",
    "- Input a number and return its square.\n",
    " - Domain for table is $x \\in [-2, -1, 0, 1, 2]$\n",
    " - Domain for plot is $-5 \\leq x \\leq 5$\n",
    " \n",
    "- Input an angle and return the sin of the angle\n",
    " - Domain for table is $x \\in [-\\pi, -\\pi/2, 0, \\pi/2, \\pi]$\n",
    " - Domain for plot is $4\\pi \\leq x \\leq 4\\pi$\n",
    "\n",
    "- Input a number and return two to the power of that number\n",
    " - Domain for table is $x \\in [-2, -1, 0, 1, 2]$\n",
    " - Domain for plot is $-5 \\leq x \\leq 5$\n",
    " \n",
    " "
   ]
  },
  {
   "cell_type": "code",
   "execution_count": 1,
   "metadata": {
    "colab": {},
    "colab_type": "code",
    "id": "tORinTnZikRc"
   },
   "outputs": [],
   "source": [
    "%matplotlib inline\n",
    "import matplotlib.pyplot as plt\n",
    "import numpy as np\n",
    "import pandas as pd"
   ]
  },
  {
   "cell_type": "code",
   "execution_count": 8,
   "metadata": {},
   "outputs": [],
   "source": [
    "#domain from -5 to 5 -- 1000 points\n",
    "x = np.linspace(-5, 5, 1000)"
   ]
  },
  {
   "cell_type": "code",
   "execution_count": 9,
   "metadata": {},
   "outputs": [],
   "source": [
    "#define function f\n",
    "def f(x):\n",
    "    return x**2"
   ]
  },
  {
   "cell_type": "code",
   "execution_count": 10,
   "metadata": {},
   "outputs": [
    {
     "data": {
      "text/plain": [
       "16"
      ]
     },
     "execution_count": 10,
     "metadata": {},
     "output_type": "execute_result"
    }
   ],
   "source": [
    "#evaluate f at x = 4\n",
    "f(4)"
   ]
  },
  {
   "cell_type": "code",
   "execution_count": 13,
   "metadata": {},
   "outputs": [],
   "source": [
    "#evaluate f at all x's in x\n",
    "y = f(x)"
   ]
  },
  {
   "cell_type": "code",
   "execution_count": 16,
   "metadata": {},
   "outputs": [],
   "source": [
    "#table of values\n",
    "f_table = pd.DataFrame({'x': x, 'f(x)': y})"
   ]
  },
  {
   "cell_type": "code",
   "execution_count": 17,
   "metadata": {},
   "outputs": [
    {
     "data": {
      "text/html": [
       "<div>\n",
       "<style scoped>\n",
       "    .dataframe tbody tr th:only-of-type {\n",
       "        vertical-align: middle;\n",
       "    }\n",
       "\n",
       "    .dataframe tbody tr th {\n",
       "        vertical-align: top;\n",
       "    }\n",
       "\n",
       "    .dataframe thead th {\n",
       "        text-align: right;\n",
       "    }\n",
       "</style>\n",
       "<table border=\"1\" class=\"dataframe\">\n",
       "  <thead>\n",
       "    <tr style=\"text-align: right;\">\n",
       "      <th></th>\n",
       "      <th>x</th>\n",
       "      <th>f(x)</th>\n",
       "    </tr>\n",
       "  </thead>\n",
       "  <tbody>\n",
       "    <tr>\n",
       "      <td>0</td>\n",
       "      <td>-5.00000</td>\n",
       "      <td>25.000000</td>\n",
       "    </tr>\n",
       "    <tr>\n",
       "      <td>1</td>\n",
       "      <td>-4.98999</td>\n",
       "      <td>24.900000</td>\n",
       "    </tr>\n",
       "    <tr>\n",
       "      <td>2</td>\n",
       "      <td>-4.97998</td>\n",
       "      <td>24.800201</td>\n",
       "    </tr>\n",
       "    <tr>\n",
       "      <td>3</td>\n",
       "      <td>-4.96997</td>\n",
       "      <td>24.700602</td>\n",
       "    </tr>\n",
       "    <tr>\n",
       "      <td>4</td>\n",
       "      <td>-4.95996</td>\n",
       "      <td>24.601203</td>\n",
       "    </tr>\n",
       "  </tbody>\n",
       "</table>\n",
       "</div>"
      ],
      "text/plain": [
       "         x       f(x)\n",
       "0 -5.00000  25.000000\n",
       "1 -4.98999  24.900000\n",
       "2 -4.97998  24.800201\n",
       "3 -4.96997  24.700602\n",
       "4 -4.95996  24.601203"
      ]
     },
     "execution_count": 17,
     "metadata": {},
     "output_type": "execute_result"
    }
   ],
   "source": [
    "f_table.head()"
   ]
  },
  {
   "cell_type": "code",
   "execution_count": 20,
   "metadata": {},
   "outputs": [
    {
     "data": {
      "text/plain": [
       "<matplotlib.axes._subplots.AxesSubplot at 0x7fc3d8f1ab90>"
      ]
     },
     "execution_count": 20,
     "metadata": {},
     "output_type": "execute_result"
    },
    {
     "data": {
      "image/png": "[encoded data removed]",
      "text/plain": [
       "<Figure size 432x288 with 1 Axes>"
      ]
     },
     "metadata": {
      "needs_background": "light"
     },
     "output_type": "display_data"
    }
   ],
   "source": [
    "#plot the function on domain x\n",
    "f_table.plot('x', 'f(x)')"
   ]
  },
  {
   "cell_type": "code",
   "execution_count": null,
   "metadata": {},
   "outputs": [],
   "source": []
  },
  {
   "cell_type": "code",
   "execution_count": null,
   "metadata": {},
   "outputs": [],
   "source": []
  },
  {
   "cell_type": "code",
   "execution_count": null,
   "metadata": {},
   "outputs": [],
   "source": []
  },
  {
   "cell_type": "code",
   "execution_count": null,
   "metadata": {},
   "outputs": [],
   "source": []
  },
  {
   "cell_type": "code",
   "execution_count": null,
   "metadata": {},
   "outputs": [],
   "source": []
  },
  {
   "cell_type": "code",
   "execution_count": null,
   "metadata": {},
   "outputs": [],
   "source": []
  },
  {
   "cell_type": "code",
   "execution_count": null,
   "metadata": {},
   "outputs": [],
   "source": []
  },
  {
   "cell_type": "code",
   "execution_count": null,
   "metadata": {},
   "outputs": [],
   "source": []
  },
  {
   "cell_type": "code",
   "execution_count": null,
   "metadata": {},
   "outputs": [],
   "source": []
  },
  {
   "cell_type": "code",
   "execution_count": null,
   "metadata": {},
   "outputs": [],
   "source": []
  },
  {
   "cell_type": "code",
   "execution_count": null,
   "metadata": {},
   "outputs": [],
   "source": []
  },
  {
   "cell_type": "code",
   "execution_count": null,
   "metadata": {},
   "outputs": [],
   "source": []
  },
  {
   "cell_type": "code",
   "execution_count": null,
   "metadata": {},
   "outputs": [],
   "source": []
  },
  {
   "cell_type": "code",
   "execution_count": null,
   "metadata": {},
   "outputs": [],
   "source": []
  },
  {
   "cell_type": "code",
   "execution_count": null,
   "metadata": {},
   "outputs": [],
   "source": []
  },
  {
   "cell_type": "code",
   "execution_count": null,
   "metadata": {},
   "outputs": [],
   "source": []
  },
  {
   "cell_type": "code",
   "execution_count": null,
   "metadata": {},
   "outputs": [],
   "source": []
  }
 ],
 "metadata": {
  "colab": {
   "name": "01-calculus.ipynb",
   "provenance": []
  },
  "kernelspec": {
   "display_name": "Python 3",
   "language": "python",
   "name": "python3"
  },
  "language_info": {
   "codemirror_mode": {
    "name": "ipython",
    "version": 3
   },
   "file_extension": ".py",
   "mimetype": "text/x-python",
   "name": "python",
   "nbconvert_exporter": "python",
   "pygments_lexer": "ipython3",
   "version": "3.7.4"
  }
 },
 "nbformat": 4,
 "nbformat_minor": 4
}
