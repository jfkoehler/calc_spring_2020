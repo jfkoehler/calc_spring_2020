{
 "cells": [
  {
   "cell_type": "markdown",
   "metadata": {},
   "source": [
    "##### PROBLEMS: FAST\n",
    "\n",
    "<table style=\"background-color: #f1f1c1; fontsize: 24\" >\n",
    "<tr>\n",
    "   <td>$\\displaystyle \\int x^n dx = \\frac{x^{n+1}}{n+1} + C$</td>\n",
    "   <td>$\\displaystyle \\int e^{ax} dx = \\frac{1}{a} e^{ax} + C$</td>\n",
    "    <td>$\\displaystyle \\int \\ln(x)dx = x\\ln(x) - x + C$</td>\n",
    " </tr>\n",
    "<tr>\n",
    "    <td>$\\displaystyle \\int \\sin(x) dx = -\\cos(x) + C$</td>\n",
    "    <td>$\\displaystyle \\int \\cos(x) dx = \\sin(x) + C$</td>\n",
    "    <td>$\\displaystyle \\int a^x dx = \\frac{a^x}{\\ln a} + C$</td>\n",
    "    </tr>"
   ]
  },
  {
   "cell_type": "markdown",
   "metadata": {},
   "source": [
    "**CONTINUOUS PROBLEMS**\n",
    "\n",
    "1. Area under $f(x) = x^5$ from $x = 0$ to $x = 1$.\n",
    "2. Area under $g(x) = \\sin(x) + 4$ from $x = \\pi$ to $x = 2\\pi$\n",
    "3. Area between $f(x) = x$ and $g(x) = \\sqrt{x}$ \n",
    "4. Volume formed by rotating region in 3 about the $x$-axis.\n",
    "\n",
    "\n",
    "\n",
    "**DISCRETE PROBLEMS**\n",
    "1. How many ways are there to throw 4 heads when tossing 6 coins? Explain.  \n",
    "2. Describe in your own words what the following two equations mean and what we use them for:\n",
    "\n",
    "$$\\mu = \\frac{1}{n} \\sum_{i = 1}^n x_i \\quad \\sigma^2 = \\frac{1}{n}\\sum_{i = 1}^n (x_i - \\mu)^2$$\n",
    "\n",
    "Do $\\mu$ and $\\sigma^2$ have other names?\n",
    "\n",
    "3. A tank has a height of 10 feet.  The area of a horizontal cross section of the tank at height $h$ is given by the function $A$ where $A(h)$ is measured in square feet.  Use a riemann sum to approximate the volume of the tank.\n",
    "\n",
    "| h | A(h) |\n",
    "| ----- | ------ |\n",
    "| 0 | 50.3 |\n",
    "| 2 | 13.2 |\n",
    "| 5 | 5.5 |\n",
    "| 10 | 3.0 |"
   ]
  },
  {
   "cell_type": "markdown",
   "metadata": {},
   "source": [
    "**EXTRA**\n",
    "\n",
    "- **CODE**: Answer any of the problems using python code.\n",
    "\n",
    "- **DATA**: Is America getting more or less equal?  Answer this question using census data and riemann summations to approximate gini indicies.\n",
    "\n",
    "- **DESIGN**: Using 3D functions, you should design a structure on specified domains.  Use Python and our earlier examples to build a slider that allows structure to be viewed from multiple angles."
   ]
  }
 ],
 "metadata": {
  "kernelspec": {
   "display_name": "Python 3",
   "language": "python",
   "name": "python3"
  },
  "language_info": {
   "codemirror_mode": {
    "name": "ipython",
    "version": 3
   },
   "file_extension": ".py",
   "mimetype": "text/x-python",
   "name": "python",
   "nbconvert_exporter": "python",
   "pygments_lexer": "ipython3",
   "version": "3.7.4"
  }
 },
 "nbformat": 4,
 "nbformat_minor": 4
}
