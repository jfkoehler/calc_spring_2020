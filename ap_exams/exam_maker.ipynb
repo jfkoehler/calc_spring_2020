{
 "cells": [
  {
   "cell_type": "code",
   "execution_count": 6,
   "metadata": {},
   "outputs": [],
   "source": [
    "#get urls\n",
    "\n",
    "#get exams\n",
    "\n",
    "#split them\n",
    "\n",
    "#add data to existing dataframe\n",
    "\n",
    "#write functions to make searchable"
   ]
  },
  {
   "cell_type": "code",
   "execution_count": 31,
   "metadata": {},
   "outputs": [],
   "source": [
    "url = 'https://apcentral.collegeboard.org/courses/ap-calculus-ab/exam/past-exam-questions'"
   ]
  },
  {
   "cell_type": "code",
   "execution_count": 32,
   "metadata": {},
   "outputs": [],
   "source": [
    "import requests\n",
    "from bs4 import BeautifulSoup"
   ]
  },
  {
   "cell_type": "code",
   "execution_count": 33,
   "metadata": {},
   "outputs": [],
   "source": [
    "r = requests.get(url)\n",
    "soup = BeautifulSoup(r.text, 'lxml')"
   ]
  },
  {
   "cell_type": "code",
   "execution_count": 34,
   "metadata": {},
   "outputs": [],
   "source": [
    "urls = soup.find_all('table')"
   ]
  },
  {
   "cell_type": "code",
   "execution_count": 36,
   "metadata": {},
   "outputs": [
    {
     "data": {
      "text/plain": [
       "'2002: Form B'"
      ]
     },
     "execution_count": 36,
     "metadata": {},
     "output_type": "execute_result"
    }
   ],
   "source": [
    "urls[-5].find('caption').text"
   ]
  },
  {
   "cell_type": "code",
   "execution_count": 91,
   "metadata": {},
   "outputs": [],
   "source": [
    "import os\n",
    "links = {}\n",
    "for url in urls:\n",
    "    k = url.find('caption').text\n",
    "    #os.mkdir(url.find('caption').text.replace(' ', '_').replace(':', ''))\n",
    "    links[k] = url.find('a').attrs['href']\n",
    "for link in links:\n",
    "    if links[link].startswith('https:'):\n",
    "        pass\n",
    "    else:\n",
    "        links[link] = 'https://secure-media.collegeboard.org' + links[link]"
   ]
  },
  {
   "cell_type": "code",
   "execution_count": 94,
   "metadata": {},
   "outputs": [],
   "source": [
    "for link in links:\n",
    "    directory = link.replace(' ', '_').replace(':', '')\n",
    "    r = requests.get(links[link])\n",
    "    open(f'{directory}/full_exam.pdf', 'wb').write(r.content)"
   ]
  },
  {
   "cell_type": "code",
   "execution_count": 97,
   "metadata": {},
   "outputs": [
    {
     "name": "stdout",
     "output_type": "stream",
     "text": [
      "08\n",
      "08\n"
     ]
    }
   ],
   "source": [
    "import pikepdf\n",
    "from pikepdf import Pdf\n",
    "\n",
    "for exam in links:\n",
    "    directory = exam.replace(' ', '_').replace(':', '')\n",
    "    try:\n",
    "        pdf = pikepdf.open(f'{directory}/full_exam.pdf')\n",
    "        for n, page in enumerate(pdf.pages):\n",
    "            if n > 0:\n",
    "\n",
    "                    dst = Pdf.new()\n",
    "                    dst.pages.append(page)\n",
    "                    dst.save(f'{directory}/problem_{n}.pdf')\n",
    "    except:\n",
    "        print(yr)"
   ]
  },
  {
   "cell_type": "code",
   "execution_count": 99,
   "metadata": {},
   "outputs": [],
   "source": [
    "from wand.image import Image as WImage"
   ]
  },
  {
   "cell_type": "code",
   "execution_count": 101,
   "metadata": {},
   "outputs": [
    {
     "data": {
      "image/png": "[encoded data removed]",
      "text/plain": [
       "<wand.image.Image: b55ba8e 'PDF' (612x792)>"
      ]
     },
     "execution_count": 101,
     "metadata": {},
     "output_type": "execute_result"
    }
   ],
   "source": [
    "WImage(filename = '2000_Free-Response_Questions/problem_1.pdf')"
   ]
  },
  {
   "cell_type": "code",
   "execution_count": 102,
   "metadata": {},
   "outputs": [],
   "source": [
    "import pandas as pd"
   ]
  },
  {
   "cell_type": "code",
   "execution_count": 103,
   "metadata": {},
   "outputs": [],
   "source": [
    "df = pd.read_excel('ap10_calc_frq_coll_index.xls')"
   ]
  },
  {
   "cell_type": "code",
   "execution_count": 104,
   "metadata": {},
   "outputs": [
    {
     "data": {
      "text/html": [
       "<div>\n",
       "<style scoped>\n",
       "    .dataframe tbody tr th:only-of-type {\n",
       "        vertical-align: middle;\n",
       "    }\n",
       "\n",
       "    .dataframe tbody tr th {\n",
       "        vertical-align: top;\n",
       "    }\n",
       "\n",
       "    .dataframe thead th {\n",
       "        text-align: right;\n",
       "    }\n",
       "</style>\n",
       "<table border=\"1\" class=\"dataframe\">\n",
       "  <thead>\n",
       "    <tr style=\"text-align: right;\">\n",
       "      <th></th>\n",
       "      <th>Year</th>\n",
       "      <th>Number</th>\n",
       "      <th>Function Presentation</th>\n",
       "      <th>Function Type</th>\n",
       "      <th>General Topics</th>\n",
       "      <th>Course Description Topics</th>\n",
       "      <th>Part</th>\n",
       "      <th>Calculator</th>\n",
       "    </tr>\n",
       "  </thead>\n",
       "  <tbody>\n",
       "    <tr>\n",
       "      <td>0</td>\n",
       "      <td>2010</td>\n",
       "      <td>AB1 BC1</td>\n",
       "      <td>analytic</td>\n",
       "      <td>exponential</td>\n",
       "      <td>total change given rate of change</td>\n",
       "      <td>integral of a rate of change to give accumulat...</td>\n",
       "      <td>(a) (c) (d)</td>\n",
       "      <td>active</td>\n",
       "    </tr>\n",
       "    <tr>\n",
       "      <td>1</td>\n",
       "      <td>2010</td>\n",
       "      <td>AB1 BC1</td>\n",
       "      <td>NaN</td>\n",
       "      <td>NaN</td>\n",
       "      <td>related rates</td>\n",
       "      <td>related rates</td>\n",
       "      <td>(b)</td>\n",
       "      <td>NaN</td>\n",
       "    </tr>\n",
       "    <tr>\n",
       "      <td>2</td>\n",
       "      <td>2010</td>\n",
       "      <td>AB1 BC1</td>\n",
       "      <td>NaN</td>\n",
       "      <td>NaN</td>\n",
       "      <td>integration methods</td>\n",
       "      <td>antiderivatives following directly from deriva...</td>\n",
       "      <td>(c)</td>\n",
       "      <td>NaN</td>\n",
       "    </tr>\n",
       "    <tr>\n",
       "      <td>3</td>\n",
       "      <td>2010</td>\n",
       "      <td>AB1 BC1</td>\n",
       "      <td>NaN</td>\n",
       "      <td>NaN</td>\n",
       "      <td>anti-differentiation (initial conditions)</td>\n",
       "      <td>finding specific antiderivatives using initial...</td>\n",
       "      <td>(c)</td>\n",
       "      <td>NaN</td>\n",
       "    </tr>\n",
       "    <tr>\n",
       "      <td>4</td>\n",
       "      <td>2010</td>\n",
       "      <td>AB2 BC2</td>\n",
       "      <td>tabular</td>\n",
       "      <td>general</td>\n",
       "      <td>derivative, definition</td>\n",
       "      <td>approximate rate of change from graphs and tab...</td>\n",
       "      <td>(a)</td>\n",
       "      <td>active</td>\n",
       "    </tr>\n",
       "  </tbody>\n",
       "</table>\n",
       "</div>"
      ],
      "text/plain": [
       "   Year   Number Function Presentation Function Type  \\\n",
       "0  2010  AB1 BC1              analytic   exponential   \n",
       "1  2010  AB1 BC1                   NaN           NaN   \n",
       "2  2010  AB1 BC1                   NaN           NaN   \n",
       "3  2010  AB1 BC1                   NaN           NaN   \n",
       "4  2010  AB2 BC2               tabular       general   \n",
       "\n",
       "                              General Topics  \\\n",
       "0          total change given rate of change   \n",
       "1                              related rates   \n",
       "2                        integration methods   \n",
       "3  anti-differentiation (initial conditions)   \n",
       "4                     derivative, definition   \n",
       "\n",
       "                           Course Description Topics         Part Calculator  \n",
       "0  integral of a rate of change to give accumulat...  (a) (c) (d)     active  \n",
       "1                                      related rates          (b)        NaN  \n",
       "2  antiderivatives following directly from deriva...         (c)         NaN  \n",
       "3  finding specific antiderivatives using initial...         (c)         NaN  \n",
       "4  approximate rate of change from graphs and tab...         (a)      active  "
      ]
     },
     "execution_count": 104,
     "metadata": {},
     "output_type": "execute_result"
    }
   ],
   "source": [
    "df.head()"
   ]
  },
  {
   "cell_type": "code",
   "execution_count": 108,
   "metadata": {},
   "outputs": [],
   "source": [
    "df = df.loc[df['Year'].isin(range(1998, 2020))]"
   ]
  },
  {
   "cell_type": "code",
   "execution_count": 109,
   "metadata": {},
   "outputs": [
    {
     "data": {
      "text/html": [
       "<div>\n",
       "<style scoped>\n",
       "    .dataframe tbody tr th:only-of-type {\n",
       "        vertical-align: middle;\n",
       "    }\n",
       "\n",
       "    .dataframe tbody tr th {\n",
       "        vertical-align: top;\n",
       "    }\n",
       "\n",
       "    .dataframe thead th {\n",
       "        text-align: right;\n",
       "    }\n",
       "</style>\n",
       "<table border=\"1\" class=\"dataframe\">\n",
       "  <thead>\n",
       "    <tr style=\"text-align: right;\">\n",
       "      <th></th>\n",
       "      <th>Year</th>\n",
       "      <th>Number</th>\n",
       "      <th>Function Presentation</th>\n",
       "      <th>Function Type</th>\n",
       "      <th>General Topics</th>\n",
       "      <th>Course Description Topics</th>\n",
       "      <th>Part</th>\n",
       "      <th>Calculator</th>\n",
       "    </tr>\n",
       "  </thead>\n",
       "  <tbody>\n",
       "    <tr>\n",
       "      <td>0</td>\n",
       "      <td>2010</td>\n",
       "      <td>AB1 BC1</td>\n",
       "      <td>analytic</td>\n",
       "      <td>exponential</td>\n",
       "      <td>total change given rate of change</td>\n",
       "      <td>integral of a rate of change to give accumulat...</td>\n",
       "      <td>(a) (c) (d)</td>\n",
       "      <td>active</td>\n",
       "    </tr>\n",
       "    <tr>\n",
       "      <td>1</td>\n",
       "      <td>2010</td>\n",
       "      <td>AB1 BC1</td>\n",
       "      <td>NaN</td>\n",
       "      <td>NaN</td>\n",
       "      <td>related rates</td>\n",
       "      <td>related rates</td>\n",
       "      <td>(b)</td>\n",
       "      <td>NaN</td>\n",
       "    </tr>\n",
       "    <tr>\n",
       "      <td>2</td>\n",
       "      <td>2010</td>\n",
       "      <td>AB1 BC1</td>\n",
       "      <td>NaN</td>\n",
       "      <td>NaN</td>\n",
       "      <td>integration methods</td>\n",
       "      <td>antiderivatives following directly from deriva...</td>\n",
       "      <td>(c)</td>\n",
       "      <td>NaN</td>\n",
       "    </tr>\n",
       "    <tr>\n",
       "      <td>3</td>\n",
       "      <td>2010</td>\n",
       "      <td>AB1 BC1</td>\n",
       "      <td>NaN</td>\n",
       "      <td>NaN</td>\n",
       "      <td>anti-differentiation (initial conditions)</td>\n",
       "      <td>finding specific antiderivatives using initial...</td>\n",
       "      <td>(c)</td>\n",
       "      <td>NaN</td>\n",
       "    </tr>\n",
       "    <tr>\n",
       "      <td>4</td>\n",
       "      <td>2010</td>\n",
       "      <td>AB2 BC2</td>\n",
       "      <td>tabular</td>\n",
       "      <td>general</td>\n",
       "      <td>derivative, definition</td>\n",
       "      <td>approximate rate of change from graphs and tab...</td>\n",
       "      <td>(a)</td>\n",
       "      <td>active</td>\n",
       "    </tr>\n",
       "  </tbody>\n",
       "</table>\n",
       "</div>"
      ],
      "text/plain": [
       "   Year   Number Function Presentation Function Type  \\\n",
       "0  2010  AB1 BC1              analytic   exponential   \n",
       "1  2010  AB1 BC1                   NaN           NaN   \n",
       "2  2010  AB1 BC1                   NaN           NaN   \n",
       "3  2010  AB1 BC1                   NaN           NaN   \n",
       "4  2010  AB2 BC2               tabular       general   \n",
       "\n",
       "                              General Topics  \\\n",
       "0          total change given rate of change   \n",
       "1                              related rates   \n",
       "2                        integration methods   \n",
       "3  anti-differentiation (initial conditions)   \n",
       "4                     derivative, definition   \n",
       "\n",
       "                           Course Description Topics         Part Calculator  \n",
       "0  integral of a rate of change to give accumulat...  (a) (c) (d)     active  \n",
       "1                                      related rates          (b)        NaN  \n",
       "2  antiderivatives following directly from deriva...         (c)         NaN  \n",
       "3  finding specific antiderivatives using initial...         (c)         NaN  \n",
       "4  approximate rate of change from graphs and tab...         (a)      active  "
      ]
     },
     "execution_count": 109,
     "metadata": {},
     "output_type": "execute_result"
    }
   ],
   "source": [
    "df.head()"
   ]
  },
  {
   "cell_type": "code",
   "execution_count": 111,
   "metadata": {},
   "outputs": [],
   "source": [
    "testin = df[df['General Topics'].str.contains('derivative')]"
   ]
  },
  {
   "cell_type": "code",
   "execution_count": 112,
   "metadata": {},
   "outputs": [
    {
     "data": {
      "text/html": [
       "<div>\n",
       "<style scoped>\n",
       "    .dataframe tbody tr th:only-of-type {\n",
       "        vertical-align: middle;\n",
       "    }\n",
       "\n",
       "    .dataframe tbody tr th {\n",
       "        vertical-align: top;\n",
       "    }\n",
       "\n",
       "    .dataframe thead th {\n",
       "        text-align: right;\n",
       "    }\n",
       "</style>\n",
       "<table border=\"1\" class=\"dataframe\">\n",
       "  <thead>\n",
       "    <tr style=\"text-align: right;\">\n",
       "      <th></th>\n",
       "      <th>Year</th>\n",
       "      <th>Number</th>\n",
       "      <th>Function Presentation</th>\n",
       "      <th>Function Type</th>\n",
       "      <th>General Topics</th>\n",
       "      <th>Course Description Topics</th>\n",
       "      <th>Part</th>\n",
       "      <th>Calculator</th>\n",
       "    </tr>\n",
       "  </thead>\n",
       "  <tbody>\n",
       "    <tr>\n",
       "      <td>4</td>\n",
       "      <td>2010</td>\n",
       "      <td>AB2 BC2</td>\n",
       "      <td>tabular</td>\n",
       "      <td>general</td>\n",
       "      <td>derivative, definition</td>\n",
       "      <td>approximate rate of change from graphs and tab...</td>\n",
       "      <td>(a)</td>\n",
       "      <td>active</td>\n",
       "    </tr>\n",
       "    <tr>\n",
       "      <td>103</td>\n",
       "      <td>2009</td>\n",
       "      <td>AB5 BC5</td>\n",
       "      <td>tabular</td>\n",
       "      <td>general</td>\n",
       "      <td>derivative, definition</td>\n",
       "      <td>approximate rate of change from graphs and tab...</td>\n",
       "      <td>(a)</td>\n",
       "      <td>neutral</td>\n",
       "    </tr>\n",
       "  </tbody>\n",
       "</table>\n",
       "</div>"
      ],
      "text/plain": [
       "     Year   Number Function Presentation Function Type  \\\n",
       "4    2010  AB2 BC2               tabular       general   \n",
       "103  2009  AB5 BC5               tabular       general   \n",
       "\n",
       "             General Topics  \\\n",
       "4    derivative, definition   \n",
       "103  derivative, definition   \n",
       "\n",
       "                             Course Description Topics  Part Calculator  \n",
       "4    approximate rate of change from graphs and tab...  (a)      active  \n",
       "103  approximate rate of change from graphs and tab...   (a)    neutral  "
      ]
     },
     "execution_count": 112,
     "metadata": {},
     "output_type": "execute_result"
    }
   ],
   "source": [
    "testin.head(2)"
   ]
  },
  {
   "cell_type": "code",
   "execution_count": 118,
   "metadata": {},
   "outputs": [
    {
     "name": "stdout",
     "output_type": "stream",
     "text": [
      "2001\n",
      "4\n"
     ]
    }
   ],
   "source": [
    "print(testin.sample(1)['Year'].values[0])\n",
    "print(testin.sample(1)['Number'].values[0][-1])"
   ]
  },
  {
   "cell_type": "code",
   "execution_count": 156,
   "metadata": {},
   "outputs": [],
   "source": [
    "def question_getter(input_string):\n",
    "    testin = df[df['General Topics'].str.contains(input_string)]\n",
    "    selection = testin.sample(1)\n",
    "    yr = selection['Year'].values[0]\n",
    "    num = selection['Number'].str[-1].values[0]\n",
    "    try:\n",
    "        return WImage(filename = f'{yr}_Free-Response_Questions/problem_{num}.pdf')\n",
    "    #return num\n",
    "    except:\n",
    "        return 'Please try again, thank you!'"
   ]
  },
  {
   "cell_type": "code",
   "execution_count": 157,
   "metadata": {},
   "outputs": [
    {
     "data": {
      "image/png": "[encoded data removed]",
      "text/plain": [
       "<wand.image.Image: 25827c1 'PDF' (612x792)>"
      ]
     },
     "execution_count": 157,
     "metadata": {},
     "output_type": "execute_result"
    }
   ],
   "source": [
    "question_getter('differential equations')"
   ]
  },
  {
   "cell_type": "code",
   "execution_count": null,
   "metadata": {},
   "outputs": [],
   "source": []
  },
  {
   "cell_type": "code",
   "execution_count": null,
   "metadata": {},
   "outputs": [],
   "source": []
  },
  {
   "cell_type": "code",
   "execution_count": null,
   "metadata": {},
   "outputs": [],
   "source": []
  },
  {
   "cell_type": "code",
   "execution_count": null,
   "metadata": {},
   "outputs": [],
   "source": []
  },
  {
   "cell_type": "code",
   "execution_count": null,
   "metadata": {},
   "outputs": [],
   "source": []
  },
  {
   "cell_type": "code",
   "execution_count": null,
   "metadata": {},
   "outputs": [],
   "source": []
  },
  {
   "cell_type": "code",
   "execution_count": 30,
   "metadata": {},
   "outputs": [],
   "source": [
    "a=pdf.pages[-1]"
   ]
  },
  {
   "cell_type": "code",
   "execution_count": null,
   "metadata": {},
   "outputs": [],
   "source": [
    "a."
   ]
  },
  {
   "cell_type": "code",
   "execution_count": 27,
   "metadata": {},
   "outputs": [
    {
     "name": "stdout",
     "output_type": "stream",
     "text": [
      "Collecting pikepdf\n",
      "  Downloading pikepdf-1.11.2-cp37-cp37m-macosx_10_9_x86_64.whl (971 kB)\n",
      "\u001b[K     |████████████████████████████████| 971 kB 283 kB/s eta 0:00:01\n",
      "\u001b[?25hRequirement already satisfied: lxml>=4.0 in /Users/jacobkoehler/opt/anaconda3/lib/python3.7/site-packages (from pikepdf) (4.4.1)\n",
      "Installing collected packages: pikepdf\n",
      "Successfully installed pikepdf-1.11.2\n",
      "\u001b[33mWARNING: You are using pip version 20.0.2; however, version 20.1 is available.\n",
      "You should consider upgrading via the '/Users/jacobkoehler/opt/anaconda3/bin/python -m pip install --upgrade pip' command.\u001b[0m\n"
     ]
    }
   ],
   "source": [
    "!pip install pikepdf"
   ]
  },
  {
   "cell_type": "code",
   "execution_count": 4,
   "metadata": {},
   "outputs": [],
   "source": [
    "for i in range(1998, 2020):\n",
    "    yr = str(i)\n",
    "    url = f'https://apcentral.collegeboard.org/pdf/ap{yr[:2]}-frq-calculus-ab.pdf'\n",
    "    r = requests.get(url)\n",
    "    open(f'{yr}/full_exam.pdf', 'wb').write(r.content)"
   ]
  },
  {
   "cell_type": "code",
   "execution_count": 24,
   "metadata": {},
   "outputs": [],
   "source": [
    "def split(path):\n",
    "    pdf = PdfFileReader(path).decrypt()\n",
    "    for page in range(1, pdf.getNumPages()):\n",
    "        pdf_writer = PdfFileWriter()\n",
    "        pdf_writer.addPage(pdf.getPage(page))\n",
    "\n",
    "        output = f'problem_{page}.pdf'\n",
    "        with open(output, 'wb') as output_pdf:\n",
    "            pdf_writer.write(path + output_pdf)"
   ]
  },
  {
   "cell_type": "code",
   "execution_count": 25,
   "metadata": {},
   "outputs": [
    {
     "ename": "TypeError",
     "evalue": "decrypt() missing 1 required positional argument: 'password'",
     "output_type": "error",
     "traceback": [
      "\u001b[0;31m---------------------------------------------------------------------------\u001b[0m",
      "\u001b[0;31mTypeError\u001b[0m                                 Traceback (most recent call last)",
      "\u001b[0;32m<ipython-input-25-2ee740244a41>\u001b[0m in \u001b[0;36m<module>\u001b[0;34m\u001b[0m\n\u001b[0;32m----> 1\u001b[0;31m \u001b[0msplit\u001b[0m\u001b[0;34m(\u001b[0m\u001b[0;34m'1999/full_exam.pdf'\u001b[0m\u001b[0;34m)\u001b[0m\u001b[0;34m\u001b[0m\u001b[0;34m\u001b[0m\u001b[0m\n\u001b[0m",
      "\u001b[0;32m<ipython-input-24-e55f9a564b33>\u001b[0m in \u001b[0;36msplit\u001b[0;34m(path)\u001b[0m\n\u001b[1;32m      1\u001b[0m \u001b[0;32mdef\u001b[0m \u001b[0msplit\u001b[0m\u001b[0;34m(\u001b[0m\u001b[0mpath\u001b[0m\u001b[0;34m)\u001b[0m\u001b[0;34m:\u001b[0m\u001b[0;34m\u001b[0m\u001b[0;34m\u001b[0m\u001b[0m\n\u001b[0;32m----> 2\u001b[0;31m     \u001b[0mpdf\u001b[0m \u001b[0;34m=\u001b[0m \u001b[0mPdfFileReader\u001b[0m\u001b[0;34m(\u001b[0m\u001b[0mpath\u001b[0m\u001b[0;34m)\u001b[0m\u001b[0;34m.\u001b[0m\u001b[0mdecrypt\u001b[0m\u001b[0;34m(\u001b[0m\u001b[0;34m)\u001b[0m\u001b[0;34m\u001b[0m\u001b[0;34m\u001b[0m\u001b[0m\n\u001b[0m\u001b[1;32m      3\u001b[0m     \u001b[0;32mfor\u001b[0m \u001b[0mpage\u001b[0m \u001b[0;32min\u001b[0m \u001b[0mrange\u001b[0m\u001b[0;34m(\u001b[0m\u001b[0;36m1\u001b[0m\u001b[0;34m,\u001b[0m \u001b[0mpdf\u001b[0m\u001b[0;34m.\u001b[0m\u001b[0mgetNumPages\u001b[0m\u001b[0;34m(\u001b[0m\u001b[0;34m)\u001b[0m\u001b[0;34m)\u001b[0m\u001b[0;34m:\u001b[0m\u001b[0;34m\u001b[0m\u001b[0;34m\u001b[0m\u001b[0m\n\u001b[1;32m      4\u001b[0m         \u001b[0mpdf_writer\u001b[0m \u001b[0;34m=\u001b[0m \u001b[0mPdfFileWriter\u001b[0m\u001b[0;34m(\u001b[0m\u001b[0;34m)\u001b[0m\u001b[0;34m\u001b[0m\u001b[0;34m\u001b[0m\u001b[0m\n\u001b[1;32m      5\u001b[0m         \u001b[0mpdf_writer\u001b[0m\u001b[0;34m.\u001b[0m\u001b[0maddPage\u001b[0m\u001b[0;34m(\u001b[0m\u001b[0mpdf\u001b[0m\u001b[0;34m.\u001b[0m\u001b[0mgetPage\u001b[0m\u001b[0;34m(\u001b[0m\u001b[0mpage\u001b[0m\u001b[0;34m)\u001b[0m\u001b[0;34m)\u001b[0m\u001b[0;34m\u001b[0m\u001b[0;34m\u001b[0m\u001b[0m\n",
      "\u001b[0;31mTypeError\u001b[0m: decrypt() missing 1 required positional argument: 'password'"
     ]
    }
   ],
   "source": [
    "split('1999/full_exam.pdf')"
   ]
  },
  {
   "cell_type": "code",
   "execution_count": null,
   "metadata": {},
   "outputs": [],
   "source": []
  },
  {
   "cell_type": "code",
   "execution_count": null,
   "metadata": {},
   "outputs": [],
   "source": []
  },
  {
   "cell_type": "code",
   "execution_count": 6,
   "metadata": {},
   "outputs": [
    {
     "name": "stdout",
     "output_type": "stream",
     "text": [
      "full_exam.pdf\n"
     ]
    }
   ],
   "source": [
    "!ls 1998/"
   ]
  },
  {
   "cell_type": "code",
   "execution_count": 65,
   "metadata": {},
   "outputs": [],
   "source": [
    "!cd ap_exams/"
   ]
  },
  {
   "cell_type": "code",
   "execution_count": 46,
   "metadata": {},
   "outputs": [],
   "source": [
    "r = requests.get(url)"
   ]
  },
  {
   "cell_type": "code",
   "execution_count": 48,
   "metadata": {},
   "outputs": [
    {
     "data": {
      "text/plain": [
       "53306"
      ]
     },
     "execution_count": 48,
     "metadata": {},
     "output_type": "execute_result"
    }
   ],
   "source": [
    "open('test.pdf', 'wb').write(r.content)"
   ]
  },
  {
   "cell_type": "code",
   "execution_count": null,
   "metadata": {},
   "outputs": [],
   "source": []
  },
  {
   "cell_type": "code",
   "execution_count": 26,
   "metadata": {},
   "outputs": [],
   "source": [
    "with open('calcab_98.pdf', 'rb') as f:\n",
    "    pdf = PdfFileReader(f)\n",
    "    info = pdf.getDocumentInfo()"
   ]
  },
  {
   "cell_type": "code",
   "execution_count": 18,
   "metadata": {},
   "outputs": [],
   "source": [
    "pdf = PdfFileReader('1998/full_exam.pdf')"
   ]
  },
  {
   "cell_type": "code",
   "execution_count": 28,
   "metadata": {},
   "outputs": [],
   "source": [
    "def split(path, name_of_split):\n",
    "    pdf = PdfFileReader(path)\n",
    "    for page in range(pdf.getNumPages()):\n",
    "        pdf_writer = PdfFileWriter()\n",
    "        pdf_writer.addPage(pdf.getPage(page))\n",
    "\n",
    "        output = f'{name_of_split}{page}.pdf'\n",
    "        with open(output, 'wb') as output_pdf:\n",
    "            pdf_writer.write(output_pdf)"
   ]
  },
  {
   "cell_type": "code",
   "execution_count": 29,
   "metadata": {},
   "outputs": [],
   "source": [
    "path = 'jnotes.pdf'\n",
    "split('calcab_98.pdf', 'examsplit')"
   ]
  },
  {
   "cell_type": "code",
   "execution_count": 58,
   "metadata": {},
   "outputs": [],
   "source": [
    "import os"
   ]
  },
  {
   "cell_type": "code",
   "execution_count": 61,
   "metadata": {},
   "outputs": [],
   "source": [
    "for i in range(1998, 2020):\n",
    "    os.mkdir(str(i))"
   ]
  },
  {
   "cell_type": "code",
   "execution_count": 62,
   "metadata": {},
   "outputs": [
    {
     "name": "stdout",
     "output_type": "stream",
     "text": [
      "/Users/jacobkoehler/Desktop/now/spring_20/calculus\n"
     ]
    }
   ],
   "source": [
    "!pwd"
   ]
  },
  {
   "cell_type": "code",
   "execution_count": null,
   "metadata": {},
   "outputs": [],
   "source": []
  }
 ],
 "metadata": {
  "kernelspec": {
   "display_name": "Python 3",
   "language": "python",
   "name": "python3"
  },
  "language_info": {
   "codemirror_mode": {
    "name": "ipython",
    "version": 3
   },
   "file_extension": ".py",
   "mimetype": "text/x-python",
   "name": "python",
   "nbconvert_exporter": "python",
   "pygments_lexer": "ipython3",
   "version": "3.7.4"
  },
  "widgets": {
   "application/vnd.jupyter.widget-state+json": {
    "state": {},
    "version_major": 2,
    "version_minor": 0
   }
  }
 },
 "nbformat": 4,
 "nbformat_minor": 4
}
