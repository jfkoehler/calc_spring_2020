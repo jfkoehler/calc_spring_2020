{
 "cells": [
  {
   "cell_type": "markdown",
   "metadata": {},
   "source": [
    "# Day 3: Functions\n",
    "\n",
    "<img src = https://upload.wikimedia.org/wikipedia/commons/4/44/Pairing.jpg />\n",
    "\n",
    "**Goals**: \n",
    "\n",
    "- Review Linear, Exponential, and Harmonic Functions\n",
    "- Understand parameters of each function type\n",
    "- Use Functions to approximate data"
   ]
  },
  {
   "cell_type": "code",
   "execution_count": 1,
   "metadata": {},
   "outputs": [
    {
     "data": {
      "text/html": [
       "\n",
       "<center>\n",
       "<h4>A Movie About Functions</h4>\n",
       "<iframe src=\"https://player.vimeo.com/video/101690069?title=0&byline=0&portrait=0\" \n",
       "width=\"700\" height=\"394\" frameborder=\"0\" webkitallowfullscreen mozallowfullscreen \n",
       "allowfullscreen></iframe>\n",
       "</center>\n"
      ],
      "text/plain": [
       "<IPython.core.display.HTML object>"
      ]
     },
     "execution_count": 1,
     "metadata": {},
     "output_type": "execute_result"
    }
   ],
   "source": [
    "from IPython.display import HTML\n",
    "\n",
    "HTML('''\n",
    "<center>\n",
    "<h4>A Movie About Functions</h4>\n",
    "<iframe src=\"https://player.vimeo.com/video/101690069?title=0&byline=0&portrait=0\" \n",
    "width=\"700\" height=\"394\" frameborder=\"0\" webkitallowfullscreen mozallowfullscreen \n",
    "allowfullscreen></iframe>\n",
    "</center>\n",
    "''')"
   ]
  },
  {
   "cell_type": "markdown",
   "metadata": {},
   "source": [
    "### Linear Functions: College Debt\n",
    "\n",
    "Returning to our example of paying down college debt, we examine the relationship between time and balance for a student who faces no compound interest.\n",
    "\n",
    "- Start with 40,000 dollars debt\n",
    "- Pay 500 dollars a month until no debt left\n",
    "\n",
    "**QUESTIONS**:\n",
    "\n",
    "1. Make a table of values for the first five months:\n",
    "\n",
    "| Month | Balance | Amount Paid |\n",
    "| ----- | ------- | ----------- |\n",
    "|  0   |  40000  | 0       |\n",
    "|  1 .  | .    | .   |\n",
    "| 2 . | .    | .    |\n",
    "| 3 . | .   | .       |\n",
    "| 4  | .   | .      |\n",
    "| 5 . | .    | .      |\n",
    "\n",
    "2. What would the balance in month 10 be?\n",
    "\n",
    "3. How much would be paid in month 20?\n",
    "\n",
    "4. Can you generalize this to a function that takes as input the number of months and returns the balance in the account?"
   ]
  },
  {
   "cell_type": "code",
   "execution_count": null,
   "metadata": {},
   "outputs": [],
   "source": []
  },
  {
   "cell_type": "code",
   "execution_count": null,
   "metadata": {},
   "outputs": [],
   "source": []
  },
  {
   "cell_type": "code",
   "execution_count": null,
   "metadata": {},
   "outputs": [],
   "source": []
  },
  {
   "cell_type": "code",
   "execution_count": null,
   "metadata": {},
   "outputs": [],
   "source": []
  },
  {
   "cell_type": "code",
   "execution_count": null,
   "metadata": {},
   "outputs": [],
   "source": []
  },
  {
   "cell_type": "markdown",
   "metadata": {},
   "source": [
    "### Linear Functions: Experiment\n",
    "\n",
    "A general form of the linear function would be:\n",
    "\n",
    "$$f(x) = ax + b$$\n",
    "\n",
    "Use the interaction below to answer the following questions:\n",
    "\n",
    "1. What does the parameter $a$ control about the graph?  What is the difference between the cases where:\n",
    "  - $a < 0$\n",
    "  - $a = 0$\n",
    "  - $a > 0$\n",
    "  \n",
    "2. What does the parameter $b$ control about the graph?  What is the difference between cases where:\n",
    "  - $b < 0$\n",
    "  - $b = 0$\n",
    "  - $b > 0$\n",
    "  \n"
   ]
  },
  {
   "cell_type": "code",
   "execution_count": 2,
   "metadata": {},
   "outputs": [],
   "source": [
    "%matplotlib inline \n",
    "import matplotlib.pyplot as plt\n",
    "import numpy as np\n",
    "import pandas as pd\n",
    "import ipywidgets as widgets\n",
    "from ipywidgets import interact"
   ]
  },
  {
   "cell_type": "code",
   "execution_count": 3,
   "metadata": {},
   "outputs": [],
   "source": [
    "def f(x, a, b):\n",
    "    return a*x + b"
   ]
  },
  {
   "cell_type": "code",
   "execution_count": 4,
   "metadata": {},
   "outputs": [],
   "source": [
    "x = np.linspace(-10, 10, 1000)"
   ]
  },
  {
   "cell_type": "code",
   "execution_count": 5,
   "metadata": {},
   "outputs": [],
   "source": [
    "def linear_plot(a, b):\n",
    "    plt.figure(figsize = (15, 6))\n",
    "    plt.plot(x, f(x, a, b))\n",
    "    plt.grid()\n",
    "    plt.ylim(-10, 10)\n",
    "    plt.xlim(-10, 10)\n",
    "    plt.axvline(color = 'black')\n",
    "    plt.axhline(color = 'black')\n",
    "    plt.title(f'a = {a}\\nb = {b}', loc = 'right', fontsize = 20)\n",
    "    return plt.show()"
   ]
  },
  {
   "cell_type": "code",
   "execution_count": 6,
   "metadata": {},
   "outputs": [
    {
     "data": {
      "application/vnd.jupyter.widget-view+json": {
       "model_id": "f27518ea8c064da38c2a76ae629374ec",
       "version_major": 2,
       "version_minor": 0
      },
      "text/plain": [
       "interactive(children=(IntSlider(value=2, description='a', max=10, min=-10), IntSlider(value=3, description='b'…"
      ]
     },
     "metadata": {},
     "output_type": "display_data"
    }
   ],
   "source": [
    "A = interact(linear_plot, a = widgets.IntSlider(2, min = -10, max = 10), b = widgets.IntSlider(3, min = -10, max = 10));"
   ]
  },
  {
   "cell_type": "markdown",
   "metadata": {},
   "source": [
    "### Quadratic Growth\n",
    "\n",
    "Use the image below to answer the following questions.\n",
    "\n",
    "1. Draw the next image in the sequence.\n",
    "2. Complete the table of values below:\n",
    "\n",
    "| n | purple boxes | yellow boxes |\n",
    "| --- | --------  | -----------  |\n",
    "|  1.  | .       | .        |\n",
    "|  2.  | .       | .        |\n",
    "|  3.  | .       | .         |\n",
    "|  4.   | .     | .        |\n",
    "| 5.   | .     | .       |\n",
    "\n",
    "3. Do you see a pattern to how the purple boxes are growing?  Explain.\n",
    "\n",
    "4. Do you see a pattern to how the yellow boxes are growing?  Explain.\n",
    "\n",
    "5. Describe a rule that would predict the number of purple squares given any value of $n$.  Plot your results on the interval $1 \\leq n \\leq 100$.  What shape does this graph resemble?"
   ]
  },
  {
   "cell_type": "code",
   "execution_count": 7,
   "metadata": {},
   "outputs": [
    {
     "data": {
      "image/png": "[encoded data removed]",
      "text/plain": [
       "<Figure size 1440x432 with 4 Axes>"
      ]
     },
     "metadata": {
      "needs_background": "light"
     },
     "output_type": "display_data"
    }
   ],
   "source": [
    "n0 = np.array([[0]])\n",
    "n1 = np.array([[0, 0], [0, 1]])\n",
    "n2 = np.array([[0, 0, 0], [0, 0, 0], [0, 1, 1]])\n",
    "n3 = np.array([[0, 0, 0, 0], [0, 0, 0, 0], [0, 0, 0, 0], [0, 1, 1, 1]])\n",
    "fig, ax = plt.subplots(nrows = 1, ncols = 4, figsize = (20, 6))\n",
    "for index, array in enumerate([n0, n1, n2, n3]):\n",
    "    ax[index].pcolor(array, edgecolors = 'black', linewidth = 10, alpha = 0.4)\n",
    "    ax[index].set_title(f'$n$ = {index + 1}', fontsize = 20, loc = 'left')\n",
    "    ax[index].axis('off')\n",
    "plt.tight_layout()"
   ]
  },
  {
   "cell_type": "code",
   "execution_count": null,
   "metadata": {},
   "outputs": [],
   "source": []
  },
  {
   "cell_type": "code",
   "execution_count": null,
   "metadata": {},
   "outputs": [],
   "source": []
  },
  {
   "cell_type": "code",
   "execution_count": null,
   "metadata": {},
   "outputs": [],
   "source": []
  },
  {
   "cell_type": "code",
   "execution_count": null,
   "metadata": {},
   "outputs": [],
   "source": []
  },
  {
   "cell_type": "markdown",
   "metadata": {},
   "source": [
    "### Experiment: Quadratic\n",
    "\n",
    "In general, a quadratic function can be written in three canonical forms: \n",
    "\n",
    "- **Standard Form**:\n",
    "\n",
    "$$y = ax^2 + bx + c$$\n",
    "\n",
    "- **Factored Form**:\n",
    "\n",
    "$$y = a(x - b)(x - c)$$\n",
    "\n",
    "- **Vertex Form**:\n",
    "\n",
    "$$y = a(x - b)^2 + c$$\n",
    "\n",
    "Your goal is to describe the effect of each of the parameters $a, b, \\text{and} c$."
   ]
  },
  {
   "cell_type": "code",
   "execution_count": 10,
   "metadata": {},
   "outputs": [],
   "source": [
    "def f(x, a, b, c):\n",
    "    st = 'Standard'\n",
    "    return a*x**2 + b*x + c\n",
    "\n",
    "def f2(x, a, b, c):\n",
    "    st = 'Factored'\n",
    "    return a*(x - b)*(x - c)\n",
    "\n",
    "def f3(x, a, b, c):\n",
    "    st = 'Vertex'\n",
    "    return a*(x - b)**2 + c\n",
    "\n",
    "\n",
    "def quad_plotter(a, b, c):\n",
    "    st = [f'${a}x^2 + {b}x + {c}$', f'${a}(x - {b})(x - {c})$', f'${a}(x - {b})^2 + {c}$']\n",
    "    fig, ax = plt.subplots(nrows = 1, ncols = 3, figsize = (20, 8))\n",
    "    for i, func in enumerate([f, f2, f3]):\n",
    "        ax[i].plot(x, func(x, a, b, c))\n",
    "        ax[i].set_ylim(-4,4)\n",
    "        ax[i].grid(True)\n",
    "        ax[i].axvline(color = 'black')\n",
    "        ax[i].axhline(color = 'black')\n",
    "        ax[i].set_title(f'{st[i]}', fontsize = 20, loc = 'right')\n",
    "    return plt.show()"
   ]
  },
  {
   "cell_type": "code",
   "execution_count": 11,
   "metadata": {},
   "outputs": [
    {
     "data": {
      "application/vnd.jupyter.widget-view+json": {
       "model_id": "53d34697977e4037acf3a951d690f76d",
       "version_major": 2,
       "version_minor": 0
      },
      "text/plain": [
       "interactive(children=(IntSlider(value=1, description='a', max=5, min=-5), IntSlider(value=1, description='b', …"
      ]
     },
     "metadata": {},
     "output_type": "display_data"
    },
    {
     "data": {
      "text/plain": [
       "<function __main__.quad_plotter(a, b, c)>"
      ]
     },
     "execution_count": 11,
     "metadata": {},
     "output_type": "execute_result"
    }
   ],
   "source": [
    "x = np.linspace(-10, 10, 1000)\n",
    "interact(quad_plotter, a = widgets.IntSlider(1, min = -5, max = 5), b = widgets.IntSlider(1, min = -5, max = 5), c = widgets.IntSlider(1, min = -5, max = 5))"
   ]
  },
  {
   "cell_type": "code",
   "execution_count": null,
   "metadata": {},
   "outputs": [],
   "source": []
  },
  {
   "cell_type": "code",
   "execution_count": null,
   "metadata": {},
   "outputs": [],
   "source": []
  },
  {
   "cell_type": "code",
   "execution_count": null,
   "metadata": {},
   "outputs": [],
   "source": []
  },
  {
   "cell_type": "code",
   "execution_count": null,
   "metadata": {},
   "outputs": [],
   "source": []
  },
  {
   "cell_type": "markdown",
   "metadata": {},
   "source": [
    "### Exponential Functions\n",
    "\n",
    "1. Suppose we know that a population of fish produces 1 new baby for every 10 existing fish each year. Use this and a starting population of 500 fish to complete the table below.\n",
    "\n",
    "| Year | Population | Population Change | \n",
    "| ----- | --------- | --------------   |\n",
    "| 0 .  | 500 .  | na |\n",
    "| 1 | .   | .   |\n",
    "| 2 | .   | .   | \n",
    "| 3 . | .   | .    |\n",
    "| 4 . | .   | .     |\n",
    "| 5 . | .   | .     |\n",
    "\n",
    "2. What will the population be in year 10?  Explain.\n",
    "\n",
    "3. When will the population reach 10,000?  Explain."
   ]
  },
  {
   "cell_type": "code",
   "execution_count": null,
   "metadata": {},
   "outputs": [],
   "source": []
  },
  {
   "cell_type": "code",
   "execution_count": null,
   "metadata": {},
   "outputs": [],
   "source": []
  },
  {
   "cell_type": "code",
   "execution_count": null,
   "metadata": {},
   "outputs": [],
   "source": []
  },
  {
   "cell_type": "markdown",
   "metadata": {},
   "source": [
    "### Experiment: Exponential Function\n",
    "\n",
    "Typically, we will represent an exponential function as:\n",
    "\n",
    "$$y = ab^{cx}$$\n",
    "\n",
    "As before, your goal is to describe the effects of varying the different parameters."
   ]
  },
  {
   "cell_type": "code",
   "execution_count": 12,
   "metadata": {},
   "outputs": [],
   "source": [
    "def f(x, a, b, c):\n",
    "    return a*b**(c*x)"
   ]
  },
  {
   "cell_type": "code",
   "execution_count": 13,
   "metadata": {},
   "outputs": [],
   "source": [
    "def exp_plotter(a, b, c):\n",
    "    plt.figure(figsize = (15, 5))\n",
    "    plt.plot(x, f(x, a, b, c))\n",
    "    plt.ylim(0, 20)\n",
    "    plt.grid()\n",
    "    plt.title('$f(x) = ab^{cx}$', loc = 'right', fontsize = 20)\n",
    "    return plt.show()"
   ]
  },
  {
   "cell_type": "code",
   "execution_count": 14,
   "metadata": {},
   "outputs": [
    {
     "data": {
      "application/vnd.jupyter.widget-view+json": {
       "model_id": "1eb1ae110623463d9410756f0f5be3de",
       "version_major": 2,
       "version_minor": 0
      },
      "text/plain": [
       "interactive(children=(FloatSlider(value=1.0, description='a', max=15.0, min=-5.0), FloatSlider(value=1.0, desc…"
      ]
     },
     "metadata": {},
     "output_type": "display_data"
    },
    {
     "data": {
      "text/plain": [
       "<function __main__.exp_plotter(a, b, c)>"
      ]
     },
     "execution_count": 14,
     "metadata": {},
     "output_type": "execute_result"
    }
   ],
   "source": [
    "interact(exp_plotter, a = widgets.FloatSlider(1, min = -5, max = 15), \n",
    "         b = widgets.FloatSlider(1, min = 0.1, max = 5), \n",
    "         c = widgets.FloatSlider(1, min = -1, max = 1))"
   ]
  },
  {
   "cell_type": "code",
   "execution_count": null,
   "metadata": {},
   "outputs": [],
   "source": []
  },
  {
   "cell_type": "code",
   "execution_count": null,
   "metadata": {},
   "outputs": [],
   "source": []
  },
  {
   "cell_type": "code",
   "execution_count": null,
   "metadata": {},
   "outputs": [],
   "source": []
  },
  {
   "cell_type": "code",
   "execution_count": null,
   "metadata": {},
   "outputs": [],
   "source": []
  },
  {
   "cell_type": "code",
   "execution_count": null,
   "metadata": {},
   "outputs": [],
   "source": []
  },
  {
   "cell_type": "markdown",
   "metadata": {},
   "source": [
    "### Harmonic Functions\n",
    "\n",
    "The image below is the largest Ferris Wheel in the world, located in Las Vegas.  This wheel has a height of 550 feet and a diameter of 520 feet, and takes 30 minutes to complete 1 full rotation.  Use this information to complete the table below.  \n",
    "\n",
    "<center>\n",
    "    <img src = https://upload.wikimedia.org/wikipedia/commons/thumb/e/e9/Downtown%2C_Las_Vegas%2C_NV%2C_USA_-_panoramio_%286%29.jpg/1920px-Downtown%2C_Las_Vegas%2C_NV%2C_USA_-_panoramio_%286%29.jpg width = 40% />\n",
    "    </center>\n",
    "    \n",
    "    \n",
    "\n",
    "| time (in minutes) | height above ground |\n",
    "| ---- | ------ |\n",
    "|  0 .  | .    0 .   |\n",
    "| 7.5 |    |\n",
    "| 15 .   | .      |\n",
    "| 22.5 .  | .      |\n",
    "| 30 .    | .      |\n",
    "\n",
    "\n",
    "1. What height will the rider be at time 45 minutes?  90?\n",
    "\n",
    "2. Draw a graph of the riders height ($y$-axis) against time ($x$-axis).\n",
    "\n",
    "3. Why do we call these \"harmonic\" functions?\n"
   ]
  },
  {
   "cell_type": "code",
   "execution_count": null,
   "metadata": {},
   "outputs": [],
   "source": []
  },
  {
   "cell_type": "code",
   "execution_count": null,
   "metadata": {},
   "outputs": [],
   "source": []
  },
  {
   "cell_type": "code",
   "execution_count": null,
   "metadata": {},
   "outputs": [],
   "source": []
  },
  {
   "cell_type": "code",
   "execution_count": null,
   "metadata": {},
   "outputs": [],
   "source": []
  },
  {
   "cell_type": "code",
   "execution_count": null,
   "metadata": {},
   "outputs": [],
   "source": []
  },
  {
   "cell_type": "code",
   "execution_count": null,
   "metadata": {},
   "outputs": [],
   "source": []
  },
  {
   "cell_type": "markdown",
   "metadata": {},
   "source": [
    "### Experiment: Sine and Cosine Functions\n",
    "\n",
    "We have two basic trigonometric functions, the $\\sin$ and $\\cos$.  Typically, we can express these as:\n",
    "\n",
    "$$A\\sin(Bx + c) + D \\quad \\text{or} \\quad A\\cos(Bx + c) + D$$\n",
    "\n",
    "You know the drill by now; what does each of the parameters control?"
   ]
  },
  {
   "cell_type": "code",
   "execution_count": 29,
   "metadata": {},
   "outputs": [],
   "source": [
    "x = np.linspace(-4*np.pi,4*np.pi, 1000)\n",
    "def sin_plot(x, a, b, c, d):\n",
    "    return a*np.sin(b*x + c) + d\n",
    "\n",
    "def cos_plot(x, a, b, c, d):\n",
    "    return a*np.cos(b*x + c) + d\n",
    "\n",
    "def trig_plot(a, b, c, d):\n",
    "    title = [f'$f(x) = {a}\\sin({b}x + {c}) + {d}$', f'$g(x) = {a}\\cos({b}x + {c}) + {d}$']\n",
    "    fig, ax = plt.subplots(nrows = 1, ncols = 2, figsize = (16, 6))\n",
    "    for i, axs in enumerate([sin_plot, cos_plot]):\n",
    "        ax[i].plot(x, axs(x, a, b, c, d))\n",
    "        ax[i].grid(True)\n",
    "        ax[i].set_ylim(-10, 10)\n",
    "        ax[i].set_title(title[i], fontsize = 18, loc = 'right')"
   ]
  },
  {
   "cell_type": "code",
   "execution_count": 30,
   "metadata": {},
   "outputs": [
    {
     "data": {
      "application/vnd.jupyter.widget-view+json": {
       "model_id": "97eb929aba4e435a858eb85b1fc17a88",
       "version_major": 2,
       "version_minor": 0
      },
      "text/plain": [
       "interactive(children=(FloatSlider(value=1.0, description='a', max=10.0, min=-10.0, step=0.25), FloatSlider(val…"
      ]
     },
     "metadata": {},
     "output_type": "display_data"
    },
    {
     "data": {
      "text/plain": [
       "<function __main__.trig_plot(a, b, c, d)>"
      ]
     },
     "execution_count": 30,
     "metadata": {},
     "output_type": "execute_result"
    }
   ],
   "source": [
    "interact(trig_plot, a = widgets.FloatSlider(1, min = -10, max = 10, step = 0.25),\n",
    "        b = widgets.FloatSlider(1, min = -10, max = 10, step = 0.25),\n",
    "        c = widgets.FloatSlider(1, min = -10, max = 10, step = 0.25),\n",
    "        d = widgets.FloatSlider(1, min = -10, max = 10, step = 0.25))"
   ]
  },
  {
   "cell_type": "code",
   "execution_count": null,
   "metadata": {},
   "outputs": [],
   "source": []
  },
  {
   "cell_type": "code",
   "execution_count": null,
   "metadata": {},
   "outputs": [],
   "source": []
  },
  {
   "cell_type": "code",
   "execution_count": null,
   "metadata": {},
   "outputs": [],
   "source": []
  },
  {
   "cell_type": "markdown",
   "metadata": {},
   "source": [
    "### Weather in Central Park\n",
    "\n",
    "The data below is from temperature readings in Central Park.  These range from 1870 to present, and we have the first few rows of the data as well as plots for the first and last five years of the dataset.  Use the plots to answer the following questions:\n",
    "\n",
    "1. What kind of function would be appropriate for a model of temperatures in central park?\n",
    "\n",
    "2. Use what you've learned from the experiments above to determine what you think are reasonable parameters for a model of temperatures.  We will imagine that each year the temperature cycles are consistent, and where $x$ is the index of the date sequence for the year, i.e. $f(\\text{day of year}) = \\text{max temperature}$ \n",
    "\n",
    "3. What does your model approximate the temperature on the 200th day of the year to be?\n",
    "\n",
    "4. The real temperature on the 200th day of the year in 2019 was 91 degrees.  How close was your approximation?"
   ]
  },
  {
   "cell_type": "code",
   "execution_count": 31,
   "metadata": {},
   "outputs": [],
   "source": [
    "df = pd.read_csv('data/2017018.csv')"
   ]
  },
  {
   "cell_type": "code",
   "execution_count": 32,
   "metadata": {},
   "outputs": [],
   "source": [
    "temps = df.loc[:, ['NAME', 'DATE', 'TMAX', 'PRCP']]\n",
    "temps['DATE'] = pd.to_datetime(temps.DATE)\n",
    "temps.set_index('DATE', inplace = True)"
   ]
  },
  {
   "cell_type": "code",
   "execution_count": 33,
   "metadata": {},
   "outputs": [
    {
     "data": {
      "text/html": [
       "<div>\n",
       "<style scoped>\n",
       "    .dataframe tbody tr th:only-of-type {\n",
       "        vertical-align: middle;\n",
       "    }\n",
       "\n",
       "    .dataframe tbody tr th {\n",
       "        vertical-align: top;\n",
       "    }\n",
       "\n",
       "    .dataframe thead th {\n",
       "        text-align: right;\n",
       "    }\n",
       "</style>\n",
       "<table border=\"1\" class=\"dataframe\">\n",
       "  <thead>\n",
       "    <tr style=\"text-align: right;\">\n",
       "      <th></th>\n",
       "      <th>NAME</th>\n",
       "      <th>TMAX</th>\n",
       "      <th>PRCP</th>\n",
       "    </tr>\n",
       "    <tr>\n",
       "      <th>DATE</th>\n",
       "      <th></th>\n",
       "      <th></th>\n",
       "      <th></th>\n",
       "    </tr>\n",
       "  </thead>\n",
       "  <tbody>\n",
       "    <tr>\n",
       "      <td>1870-01-01</td>\n",
       "      <td>NY CITY CENTRAL PARK, NY US</td>\n",
       "      <td>43</td>\n",
       "      <td>0.08</td>\n",
       "    </tr>\n",
       "    <tr>\n",
       "      <td>1870-01-02</td>\n",
       "      <td>NY CITY CENTRAL PARK, NY US</td>\n",
       "      <td>54</td>\n",
       "      <td>1.18</td>\n",
       "    </tr>\n",
       "    <tr>\n",
       "      <td>1870-01-03</td>\n",
       "      <td>NY CITY CENTRAL PARK, NY US</td>\n",
       "      <td>41</td>\n",
       "      <td>0.00</td>\n",
       "    </tr>\n",
       "    <tr>\n",
       "      <td>1870-01-04</td>\n",
       "      <td>NY CITY CENTRAL PARK, NY US</td>\n",
       "      <td>35</td>\n",
       "      <td>0.00</td>\n",
       "    </tr>\n",
       "    <tr>\n",
       "      <td>1870-01-05</td>\n",
       "      <td>NY CITY CENTRAL PARK, NY US</td>\n",
       "      <td>34</td>\n",
       "      <td>0.00</td>\n",
       "    </tr>\n",
       "  </tbody>\n",
       "</table>\n",
       "</div>"
      ],
      "text/plain": [
       "                                   NAME  TMAX  PRCP\n",
       "DATE                                               \n",
       "1870-01-01  NY CITY CENTRAL PARK, NY US    43  0.08\n",
       "1870-01-02  NY CITY CENTRAL PARK, NY US    54  1.18\n",
       "1870-01-03  NY CITY CENTRAL PARK, NY US    41  0.00\n",
       "1870-01-04  NY CITY CENTRAL PARK, NY US    35  0.00\n",
       "1870-01-05  NY CITY CENTRAL PARK, NY US    34  0.00"
      ]
     },
     "execution_count": 33,
     "metadata": {},
     "output_type": "execute_result"
    }
   ],
   "source": [
    "temps.head()"
   ]
  },
  {
   "cell_type": "code",
   "execution_count": 34,
   "metadata": {},
   "outputs": [
    {
     "data": {
      "image/png": "[encoded data removed]",
      "text/plain": [
       "<Figure size 1152x360 with 2 Axes>"
      ]
     },
     "metadata": {
      "needs_background": "light"
     },
     "output_type": "display_data"
    }
   ],
   "source": [
    "fig, ax = plt.subplots(nrows = 1, ncols = 2, figsize = (16, 5))\n",
    "temps['TMAX'][:365*5].plot(ax = ax[0])\n",
    "ax[0].grid(True)\n",
    "temps['TMAX'][-365*5:].plot(ax = ax[1])\n",
    "plt.grid()"
   ]
  }
 ],
 "metadata": {
  "kernelspec": {
   "display_name": "Python 3",
   "language": "python",
   "name": "python3"
  },
  "language_info": {
   "codemirror_mode": {
    "name": "ipython",
    "version": 3
   },
   "file_extension": ".py",
   "mimetype": "text/x-python",
   "name": "python",
   "nbconvert_exporter": "python",
   "pygments_lexer": "ipython3",
   "version": "3.7.4"
  }
 },
 "nbformat": 4,
 "nbformat_minor": 4
}
