{
 "cells": [
  {
   "cell_type": "markdown",
   "metadata": {
    "colab_type": "text",
    "id": "LzE4_h_uiPCE"
   },
   "source": [
    "# Problem Set I\n",
    "\n",
    "You are to either write your completed solution in the solution cell if it is a text based question and code if it is a code question."
   ]
  },
  {
   "cell_type": "markdown",
   "metadata": {
    "colab_type": "text",
    "id": "jd620PQtimbA"
   },
   "source": [
    "### Question 1: Addition\n",
    "\n",
    "- What kind of number will an even number plus an even number return; even or odd?  Why?\n",
    "- What is the sum of an even number and odd number?  Explain.\n"
   ]
  },
  {
   "cell_type": "markdown",
   "metadata": {
    "colab_type": "text",
    "id": "qO4F4_QDjMrf"
   },
   "source": [
    "### Question 2: Multiplication\n",
    "\n",
    "\n",
    "\n",
    "*   What kind of number will an even number times an even number return?  Explain.\n",
    "*   Odd times Odd?\n",
    "- Even times Odd?\n",
    "\n"
   ]
  },
  {
   "cell_type": "markdown",
   "metadata": {
    "colab_type": "text",
    "id": "lTnqGl94jfpa"
   },
   "source": [
    "### Question 3: Descartes\n",
    "\n",
    "Read through the first 10 pages of Descartes Geometry [here](https://archive.org/details/TheGeometry/page/n13).  Your goal is to first understand his visual approach to multiplication and square root extraction.  Use his approach to demonstrate:\n",
    "\n",
    "- Construction of $3 \\times 4$\n",
    "- Construction of $\\sqrt{7}$ ([here](https://www.maa.org/press/periodicals/convergence/descartes-method-for-constructing-roots-of-polynomials-with-simple-curves-history-of-constructing) is an extra visual for this)"
   ]
  },
  {
   "cell_type": "markdown",
   "metadata": {},
   "source": [
    "### Question 4: Pythagorean Theorem\n",
    "\n",
    "<img src = https://upload.wikimedia.org/wikipedia/commons/6/65/Pythag_anim.gif width = 100/>\n",
    "\n",
    "The gif above comes from Wikipedia's page on the Pythagorean theorem under the [Proofs](https://en.wikipedia.org/wiki/Pythagorean_theorem#Other_proofs_of_the_theorem) section.  Does this image give you reason to believe that $a^2 + b^2 = c^2$?  Why?\n",
    "\n",
    "-----\n",
    "\n",
    "The diagram below is an alternative approach for justifying the truth of $a^2 + b^2 = c^2$.  To use this, please do the following:\n",
    "\n",
    "<center>\n",
    "    <img src = images/bhaskara_img.png width = 200/>\n",
    "</center>\n",
    "\n",
    "- Express the area of the square as $(side)^2$.\n",
    "- Express the area of the square as the sum of its parts -- the 4 triangles and smaller square.\n",
    "- These two expression should evaluate to the same thing, as they both represent the area of the square.  Set them equal to one another, rearange this to show $a^2 + b^2 = c^2$."
   ]
  },
  {
   "cell_type": "markdown",
   "metadata": {},
   "source": [
    "### Question 5\n",
    "\n",
    "\n",
    "The [spiral of Theodorus](https://en.wikipedia.org/wiki/Spiral_of_Theodorus) gives guidance on constructing the square roots of integer numbers.  Explain how you might use this to measure a distance of $\\sqrt{5}$ feet.  Write a step by step guide with pictures and sidewalk chalk if you feel ambitious.\n",
    "\n",
    "<center>\n",
    "    <img src = https://upload.wikimedia.org/wikipedia/commons/thumb/9/9f/Spiral_of_Theodorus.svg/800px-Spiral_of_Theodorus.svg.png width = 200/>\n",
    "    </center>"
   ]
  },
  {
   "cell_type": "markdown",
   "metadata": {},
   "source": [
    "### Question 6\n",
    "\n",
    "We use the Pythagorean to determine the distance between two points in the plane $(x_1, y_1)$ and $(x_2, y_2)$.  \n",
    "\n",
    "<center>\n",
    "    <img src = \"images/distance.png\" width = 300 />\n",
    "    </center>\n",
    "    \n",
    "as:\n",
    "\n",
    "$$D = \\sqrt{(x_1 - x_2)^2 + (y_1 - y_2)^2}$$\n",
    "\n",
    "Explain what the $x_1 - x_2$ and $y_1 - y_2$ terms represent in the image?  Please draw these in and label them.  Use the formula to find the distance between $(0, 0)$ and $(-3, 10)$."
   ]
  },
  {
   "cell_type": "markdown",
   "metadata": {},
   "source": [
    "### Question 7\n",
    "\n",
    "Here, we repeat our work with the Babylonian square root approximation to find approximations for the lengths $\\sqrt{3}, \\sqrt{5}$, and $\\sqrt{7}$. The video reviews using a for loop to compute $\\sqrt{2}$ and use the code below to generate a table of approximations.\n",
    "\n",
    "\n"
   ]
  },
  {
   "cell_type": "code",
   "execution_count": 32,
   "metadata": {},
   "outputs": [],
   "source": [
    "#calculate the approximations\n",
    "approximations = [1.5]\n",
    "for i in range(5):\n",
    "    next_approximation = 1/2*(approximations[i] + 2/approximations[i])\n",
    "    approximations.append(next_approximation)"
   ]
  },
  {
   "cell_type": "code",
   "execution_count": 33,
   "metadata": {},
   "outputs": [],
   "source": [
    "#create a table (DataFrame)\n",
    "df = pd.DataFrame({'approximations': approximations})"
   ]
  },
  {
   "cell_type": "code",
   "execution_count": 34,
   "metadata": {},
   "outputs": [
    {
     "data": {
      "text/html": [
       "<div>\n",
       "<style scoped>\n",
       "    .dataframe tbody tr th:only-of-type {\n",
       "        vertical-align: middle;\n",
       "    }\n",
       "\n",
       "    .dataframe tbody tr th {\n",
       "        vertical-align: top;\n",
       "    }\n",
       "\n",
       "    .dataframe thead th {\n",
       "        text-align: right;\n",
       "    }\n",
       "</style>\n",
       "<table border=\"1\" class=\"dataframe\">\n",
       "  <thead>\n",
       "    <tr style=\"text-align: right;\">\n",
       "      <th></th>\n",
       "      <th>approximations</th>\n",
       "    </tr>\n",
       "  </thead>\n",
       "  <tbody>\n",
       "    <tr>\n",
       "      <td>0</td>\n",
       "      <td>1.500000</td>\n",
       "    </tr>\n",
       "    <tr>\n",
       "      <td>1</td>\n",
       "      <td>1.416667</td>\n",
       "    </tr>\n",
       "    <tr>\n",
       "      <td>2</td>\n",
       "      <td>1.414216</td>\n",
       "    </tr>\n",
       "    <tr>\n",
       "      <td>3</td>\n",
       "      <td>1.414214</td>\n",
       "    </tr>\n",
       "    <tr>\n",
       "      <td>4</td>\n",
       "      <td>1.414214</td>\n",
       "    </tr>\n",
       "  </tbody>\n",
       "</table>\n",
       "</div>"
      ],
      "text/plain": [
       "   approximations\n",
       "0        1.500000\n",
       "1        1.416667\n",
       "2        1.414216\n",
       "3        1.414214\n",
       "4        1.414214"
      ]
     },
     "execution_count": 34,
     "metadata": {},
     "output_type": "execute_result"
    }
   ],
   "source": [
    "#display 5 rows of DataFrame\n",
    "df.head()"
   ]
  },
  {
   "cell_type": "code",
   "execution_count": 37,
   "metadata": {},
   "outputs": [],
   "source": [
    "#create a new column that \n",
    "#finds the difference between successive approximations\n",
    "df['difference_in_approximations'] = df.diff().round(6)"
   ]
  },
  {
   "cell_type": "code",
   "execution_count": 39,
   "metadata": {},
   "outputs": [
    {
     "data": {
      "text/html": [
       "<div>\n",
       "<style scoped>\n",
       "    .dataframe tbody tr th:only-of-type {\n",
       "        vertical-align: middle;\n",
       "    }\n",
       "\n",
       "    .dataframe tbody tr th {\n",
       "        vertical-align: top;\n",
       "    }\n",
       "\n",
       "    .dataframe thead th {\n",
       "        text-align: right;\n",
       "    }\n",
       "</style>\n",
       "<table border=\"1\" class=\"dataframe\">\n",
       "  <thead>\n",
       "    <tr style=\"text-align: right;\">\n",
       "      <th></th>\n",
       "      <th>approximations</th>\n",
       "      <th>difference_in_approximations</th>\n",
       "    </tr>\n",
       "  </thead>\n",
       "  <tbody>\n",
       "    <tr>\n",
       "      <td>0</td>\n",
       "      <td>1.500000</td>\n",
       "      <td>NaN</td>\n",
       "    </tr>\n",
       "    <tr>\n",
       "      <td>1</td>\n",
       "      <td>1.416667</td>\n",
       "      <td>-0.083333</td>\n",
       "    </tr>\n",
       "    <tr>\n",
       "      <td>2</td>\n",
       "      <td>1.414216</td>\n",
       "      <td>-0.002451</td>\n",
       "    </tr>\n",
       "    <tr>\n",
       "      <td>3</td>\n",
       "      <td>1.414214</td>\n",
       "      <td>-0.000002</td>\n",
       "    </tr>\n",
       "    <tr>\n",
       "      <td>4</td>\n",
       "      <td>1.414214</td>\n",
       "      <td>-0.000000</td>\n",
       "    </tr>\n",
       "  </tbody>\n",
       "</table>\n",
       "</div>"
      ],
      "text/plain": [
       "   approximations  difference_in_approximations\n",
       "0        1.500000                           NaN\n",
       "1        1.416667                     -0.083333\n",
       "2        1.414216                     -0.002451\n",
       "3        1.414214                     -0.000002\n",
       "4        1.414214                     -0.000000"
      ]
     },
     "execution_count": 39,
     "metadata": {},
     "output_type": "execute_result"
    }
   ],
   "source": [
    "#look at our updated DataFrame\n",
    "df.head()"
   ]
  },
  {
   "cell_type": "code",
   "execution_count": 17,
   "metadata": {},
   "outputs": [],
   "source": [
    "#image for 6\n",
    "# %matplotlib inline\n",
    "# import matplotlib.pyplot as plt\n",
    "# import numpy as np\n",
    "\n",
    "# fig, ax = plt.subplots()\n",
    "# ax.plot([1, 0], [0, 1], 'o', color = 'black', markersize = 10)\n",
    "# ax.plot([1, 0], [0, 1], '--')\n",
    "# ax.text(0.1, 0.95, '$(x_1, y_1)$', fontsize = 16)\n",
    "# ax.text(0.75, 0.0, '$(x_2, y_2)$', fontsize = 16)\n",
    "# ax.set_axis_off()\n",
    "# plt.savefig('images/distance.png')"
   ]
  }
 ],
 "metadata": {
  "colab": {
   "name": "01-calculus.ipynb",
   "provenance": []
  },
  "kernelspec": {
   "display_name": "Python 3",
   "language": "python",
   "name": "python3"
  },
  "language_info": {
   "codemirror_mode": {
    "name": "ipython",
    "version": 3
   },
   "file_extension": ".py",
   "mimetype": "text/x-python",
   "name": "python",
   "nbconvert_exporter": "python",
   "pygments_lexer": "ipython3",
   "version": "3.7.4"
  },
  "widgets": {
   "application/vnd.jupyter.widget-state+json": {
    "state": {},
    "version_major": 2,
    "version_minor": 0
   }
  }
 },
 "nbformat": 4,
 "nbformat_minor": 4
}
