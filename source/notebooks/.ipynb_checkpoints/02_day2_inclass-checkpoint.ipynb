{
 "cells": [
  {
   "cell_type": "markdown",
   "metadata": {},
   "source": [
    "<script>\n",
    "  (function(i,s,o,g,r,a,m){i['GoogleAnalyticsObject']=r;i[r]=i[r]||function(){\n",
    "  (i[r].q=i[r].q||[]).push(arguments)},i[r].l=1*new Date();a=s.createElement(o),\n",
    "  m=s.getElementsByTagName(o)[0];a.async=1;a.src=g;m.parentNode.insertBefore(a,m)\n",
    "  })(window,document,'script','https://www.google-analytics.com/analytics.js','ga');\n",
    "\n",
    "  ga('create', 'UA-50838873-3', 'auto');\n",
    "  ga('send', 'pageview');\n",
    "\n",
    "</script>"
   ]
  },
  {
   "cell_type": "markdown",
   "metadata": {
    "slideshow": {
     "slide_type": "slide"
    }
   },
   "source": [
    "# Introduction to Infinite Processes\n",
    "\n",
    "This notebook introduces two of the earliest known examples of mathematics motivated by the difficulty of representation.  Both $\\sqrt{2}$ and $\\pi$ are problematic numbers.  We can easily describe them geometrically, but when it comes to actually representing them with numbers in decimal form, the best we can do is approximate them.  \n",
    "\n",
    "\n",
    "**GOALS**: \n",
    "\n",
    "- Use Babylonian Square Root Algorithm to approximate irrational numbers by hand.\n",
    "\n",
    "- Use the Method of Exhaustion to approximate Pi\n",
    "\n",
    "- Represent Zeno's Paradox of the Tortoise and Achilles.\n",
    "\n",
    "\n",
    "\n",
    "### Computing Square Roots\n",
    "\n",
    "\n",
    "\n",
    "Suppose we have a guess that we think is close to $\\sqrt{2}$\n",
    "\n",
    "$$x_1 \\approx \\sqrt{2} \\quad \\rightarrow \\quad x_1 \\times x_1 \\approx 2 \\quad \\rightarrow \\quad x_1 \\approx \\frac{2}{x_1}$$\n",
    "\n",
    "Either $x_1$ is a better guess or $\\frac{2}{x}$, but even better still would be the average of the two:\n",
    "\n",
    "$$x_2 = \\frac{1}{2} \\big(x_1 + \\frac{2}{x_1}\\big)$$\n",
    "\n",
    "If we continue in this manner we will get better and better approximations:\n",
    "\n",
    "$$x_3 = \\frac{1}{2} \\big(x_2 + \\frac{2}{x_2}\\big)$$\n",
    "\n",
    "$$x_4 = \\frac{1}{2} \\big(x_3 + \\frac{2}{x_3}\\big)$$\n",
    "\n",
    "$$x_5 = \\frac{1}{2} \\big(x_4 + \\frac{2}{x_4}\\big)$$\n",
    "\n",
    "$$\\vdots$$\n",
    "\n",
    "$$x_{n+1} = \\frac{1}{2} \\big(x_n + \\frac{2}{x_n}\\big)$$\n",
    "\n",
    "\n",
    "We can use our familiar for loop structure to generate successive approximations for $\\sqrt{2}$ based on this formulation."
   ]
  },
  {
   "cell_type": "code",
   "execution_count": 2,
   "metadata": {
    "slideshow": {
     "slide_type": "subslide"
    }
   },
   "outputs": [
    {
     "data": {
      "text/plain": [
       "[2,\n",
       " 1.5,\n",
       " 1.4166666666666665,\n",
       " 1.4142156862745097,\n",
       " 1.4142135623746899,\n",
       " 1.414213562373095,\n",
       " 1.414213562373095,\n",
       " 1.414213562373095,\n",
       " 1.414213562373095,\n",
       " 1.414213562373095,\n",
       " 1.414213562373095]"
      ]
     },
     "execution_count": 2,
     "metadata": {},
     "output_type": "execute_result"
    }
   ],
   "source": [
    "sqrt = [2]\n",
    "for i in range(10):\n",
    "    next = 0.5*(sqrt[i] + 2/(sqrt[i]))\n",
    "    sqrt.append(next)\n",
    "    \n",
    "sqrt"
   ]
  },
  {
   "cell_type": "code",
   "execution_count": 3,
   "metadata": {},
   "outputs": [],
   "source": [
    "%matplotlib inline\n",
    "import numpy as np\n",
    "import matplotlib.pyplot as plt"
   ]
  },
  {
   "cell_type": "code",
   "execution_count": 4,
   "metadata": {
    "slideshow": {
     "slide_type": "subslide"
    }
   },
   "outputs": [
    {
     "data": {
      "text/plain": [
       "Text(0.5, 1.0, 'Successive Approximations to $\\\\sqrt{2}$')"
      ]
     },
     "execution_count": 4,
     "metadata": {},
     "output_type": "execute_result"
    },
    {
     "data": {
      "image/png": "[encoded data removed]",
      "text/plain": [
       "<Figure size 432x288 with 1 Axes>"
      ]
     },
     "metadata": {
      "needs_background": "light"
     },
     "output_type": "display_data"
    }
   ],
   "source": [
    "plt.plot(sqrt, '--o')\n",
    "plt.ylim(0,2)\n",
    "plt.title(\"Successive Approximations to $\\sqrt{2}$\")"
   ]
  },
  {
   "cell_type": "markdown",
   "metadata": {
    "slideshow": {
     "slide_type": "slide"
    }
   },
   "source": [
    "### Pi and Trigonometry\n",
    "\n",
    "Recall that we can understand $\\pi$ as the ratio between the diameter and circumference of a circle.  Thus, if we have a circle with diameter 1, the circumference would be $\\pi$.  We use this to approximate the value of $\\pi$.\n",
    "\n",
    "In a similar manner we can approximate the value of $\\pi$.  Following Aristarchus, we can consider a sqaure mounted inside a circle of radius 1, with its vertices located at $(1, 0), (0, 1), (-1, 0),$ and $(0, -1)$.  We can use the perimeter of the square as an approximation for the circumference of the circle.\n",
    "\n",
    "![](images/squrecirc.png)\n",
    "\n",
    "A better approximation would be if we used a regular polygon with twice as many sides.  We can understand this as placing points at the halfway between each existing vertex.  To mathematize this, let's refresh our memory of the unit circle.\n",
    "\n",
    "#### Unit Circle\n",
    "\n",
    "The unit circle describes the location of points around a circle of radius 1.  For us, we care about the use of $\\cos$ and $\\sin$ to place coordinates on the circle.  If we cut our square in half, we would have points every $45^o$ or $\\frac{\\pi}{2}$, and can use the trigonometric measures of these angles as ways to find the coordinates.\n",
    "\n",
    "\n",
    "\n",
    "We demonstrate the first two iterations of this below using `matplotlib.patches` Circle and RegularPolygon Functions.  "
   ]
  },
  {
   "cell_type": "code",
   "execution_count": 5,
   "metadata": {},
   "outputs": [
    {
     "data": {
      "text/plain": [
       "(-1, 1)"
      ]
     },
     "execution_count": 5,
     "metadata": {},
     "output_type": "execute_result"
    },
    {
     "data": {
      "image/png": "[encoded data removed]",
      "text/plain": [
       "<Figure size 432x288 with 1 Axes>"
      ]
     },
     "metadata": {
      "needs_background": "light"
     },
     "output_type": "display_data"
    }
   ],
   "source": [
    "import matplotlib.pyplot as plt\n",
    "import matplotlib.patches as patches\n",
    "\n",
    "fig1 = plt.figure()\n",
    "ax1 = fig1.add_subplot(111, aspect = 'equal')\n",
    "ax1.add_patch(patches.RegularPolygon((0,0), 4,1, alpha = .2))\n",
    "ax1.add_patch(patches.Circle((0,0), 1, fill = False))\n",
    "plt.xlim(-1,1)\n",
    "plt.ylim(-1,1)"
   ]
  },
  {
   "cell_type": "code",
   "execution_count": 6,
   "metadata": {},
   "outputs": [
    {
     "data": {
      "text/plain": [
       "(-1, 1)"
      ]
     },
     "execution_count": 6,
     "metadata": {},
     "output_type": "execute_result"
    },
    {
     "data": {
      "image/png": "[encoded data removed]",
      "text/plain": [
       "<Figure size 432x288 with 1 Axes>"
      ]
     },
     "metadata": {
      "needs_background": "light"
     },
     "output_type": "display_data"
    }
   ],
   "source": [
    "import matplotlib.pyplot as plt\n",
    "import matplotlib.patches as patches\n",
    "\n",
    "fig1 = plt.figure()\n",
    "ax1 = fig1.add_subplot(111, aspect = 'equal')\n",
    "ax1.add_patch(patches.RegularPolygon((0,0),8,1, alpha = 0.2)) #center with 8 sides, radius 1\n",
    "ax1.add_patch(patches.Circle((0, 0), 1, fill = False))\n",
    "plt.xlim(-1,1)\n",
    "plt.ylim(-1,1)"
   ]
  },
  {
   "cell_type": "markdown",
   "metadata": {},
   "source": [
    "The coordinate values of the points can be found with some creative use of a list comprehension and our knowledge of the angles."
   ]
  },
  {
   "cell_type": "code",
   "execution_count": 7,
   "metadata": {},
   "outputs": [],
   "source": [
    "square_approx = [[np.cos(i*np.pi/2), np.sin(i*np.pi/2)] for i in range(4)]"
   ]
  },
  {
   "cell_type": "code",
   "execution_count": 8,
   "metadata": {
    "scrolled": true
   },
   "outputs": [
    {
     "data": {
      "text/plain": [
       "[[1.0, 0.0],\n",
       " [6.123233995736766e-17, 1.0],\n",
       " [-1.0, 1.2246467991473532e-16],\n",
       " [-1.8369701987210297e-16, -1.0]]"
      ]
     },
     "execution_count": 8,
     "metadata": {},
     "output_type": "execute_result"
    }
   ],
   "source": [
    "square_approx"
   ]
  },
  {
   "cell_type": "markdown",
   "metadata": {},
   "source": [
    "#### Extending the Approximation\n",
    "\n",
    "The work above is a strict under approximation for $\\pi$.  We will always get a value less than it, as we will never completely fill the circle.  \n",
    "\n",
    "We could arrive at an upper bound for $\\pi$ by constructing a square outside of the circle and continually bisecting the sides to limit an upper boundary for out guess.  Archimedes performed this in writing in the second century BC.  "
   ]
  },
  {
   "cell_type": "markdown",
   "metadata": {},
   "source": [
    "### An Algorithmic Approach\n",
    "\n",
    "# What is $\\pi$?\n",
    "\n",
    "In his book *The Historical Development of the Calculus*, C.H. Edwards relates an early history of $\\pi$.  Around 430 BC, Hippocrates of Chios showed that the ratio of the area of two circles is equal to the ratio of the squares of their diameters.  Later, Eudoxus and Archimedes worked to deploy the method of exhaustion in determining this value.\n",
    "\n",
    "### Rough Approximations\n",
    "\n",
    "For Archimedes, he began with a hexagon inscribed and circumscribed on a circle with unit radius.  Of course, we've probably seen the relationship for the area of a circle as\n",
    "\n",
    "$$A = \\pi r^2$$\n",
    "\n",
    "Thus, if we have $r = 1$, the area of our circle is equal to $\\pi$.  We can use some rough approximations and our knowledge of square roots to determine a first approximation as Archimedes did by using a unit circle and inscribed and circumscribed hexagons as seen in the image below.\n",
    "\n",
    "<img src = \"images/exhaust.png\" height=\"50%\" width=\"50%\" />\n",
    "\n",
    "\n",
    "Here, we decompose the inscribed and circumscribed polygons using our knowledge of triangles.  As we saw in class, we can understand the inscribed triangles through the Pythagorean theorem, and some elementary knowledge about equilateral triangles.  To find the height of these triangles, we recognize that dropping a perpendicular to the base creates a right triangle with hypotenuse 1 and short leg $\\frac{1}{2}$ shown below.\n",
    "\n",
    "<img src = \"images/triangle.png\" height=\"50%\" width=\"50%\" />\n",
    "\n",
    "Thus, we can find the height using the Pythagorean theorem.  This gives us:\n",
    "\n",
    "$$\\frac{1}{2}^2 + ?^2 = 1^2$$\n",
    "\n",
    "$$?^2 = 1 - \\frac{1}{4}$$\n",
    "\n",
    "$$? = \\frac{\\sqrt{3}}{2}$$\n",
    "\n",
    "and an area for each of the six triangles of \n",
    "\n",
    "$$A = \\frac{1}{2}(\\text{base})(\\text{height}) \\quad \\text{or} \\quad A = \\frac{1}{2}\\times 1\\times\\frac{\\sqrt{3}}{2} = \\frac{\\sqrt{3}}{8}$$\n",
    "\n",
    "Thus, for all six triangles we have\n",
    "\n",
    "$$6 \\times \\frac{\\sqrt{3}}{4} \\quad \\text{or} \\quad \\frac{3\\sqrt{3}}{2}$$\n",
    "\n",
    "We can use Python to compute this as a number using our tenth approximation for $\\sqrt{3}$."
   ]
  },
  {
   "cell_type": "code",
   "execution_count": 1,
   "metadata": {},
   "outputs": [
    {
     "name": "stdout",
     "output_type": "stream",
     "text": [
      "The first approximation for pi is 2.598076211353316\n"
     ]
    }
   ],
   "source": [
    "a = [1.6]\n",
    "\n",
    "for i in range(9):\n",
    "    next = 0.5*(a[i]+3/a[i])\n",
    "    a.append(next)\n",
    "    \n",
    "print(\"The first approximation for pi is\", (3*a[-1]/2))"
   ]
  },
  {
   "cell_type": "markdown",
   "metadata": {},
   "source": [
    "### Recurrence Relationships from Antiquity\n",
    "\n",
    "While we could continue to determine the successive relationships as we go, there are actually patterns that develop in both Eudoxus who started with a square and Archimedes who began with a hexagon. As Bruce Shapiro notes in his book *Scientific Computation: Python Hacking for Math Junkies*, the Eudoxean relationship is contingent on the length of an outer edge of a polygon $H_n$ and the perimeter of that polygone $P_n$, as follows:\n",
    "\n",
    "$$P_n = 2^n H_n \\quad \\text{thus} \\quad \\pi_n = \\frac{1}{2}P_n = 2^{n-1}H_n$$\n",
    "\n",
    "Further, we have a recursive relationship on $H_n$ as:\n",
    "\n",
    "$$H_n^2 = 2 - 2\\sqrt{1-\\big(\\frac{H_{n-1}}{2}\\big)^2}$$\n",
    "\n",
    "Thus, if we have an initial approximation, we can deploy this relationship to iterate and find better and better approximations.\n",
    "\n",
    "For Archimedes, we have a similar relationship where $I_n$ is the inscribed polygon and $C_n$ is the circumscribed polygon, thus\n",
    "\n",
    "$$I_n < \\pi < C_n$$\n",
    "\n",
    "and the recurrence relationships\n",
    "\n",
    "$$C_{2n} = \\frac{2C_nI_n}{C_n + I_n}$$\n",
    "\n",
    "$$~$$\n",
    "\n",
    "$$I_{2n} = \\sqrt{C_{2n}I_{n}}$$\n",
    "\n",
    "If you need something to do, you can establish these relationships."
   ]
  },
  {
   "cell_type": "markdown",
   "metadata": {},
   "source": [
    "### Zeno's Paradox\n",
    "\n",
    "The philosopher Zeno of Elea is said to be the product of a series of paradoxical questions, one of which dealt with the difficulty in quantifying the continuum.  Here, the problem involved a race between a tortise and Achilles (a man).  The tortise got a head start.  Aristotle describes the problem in his Physics as follows:\n",
    "\n",
    ">*\"This claims that the slowest funner will never be caught by the fastest runner, because the one behind has first to reach the point from which the one in front started, and so the slower one is obound always to be in front\" Aristotle\"*, Physics 239b14 - 18\n",
    "\n",
    "The problem, according to Zeno, has been interpreted to mean that it is impossible to cross any unit distance before crossing half of it.  It is impossible to cross this half without having crossed half of the half.  Continue the argument to infinity and how can we ever move?!  The image below offers a visualization of the problem.\n",
    "\n",
    "![](images/zeno.png)\n",
    "\n",
    "\n",
    "\n",
    "\n",
    "\n",
    "\n"
   ]
  },
  {
   "cell_type": "markdown",
   "metadata": {},
   "source": [
    "#### Zeno and Sums\n",
    "\n",
    "If we examine the image above, it should make sense to us that the sum of the terms of Zeno's sequence add to one.  It may be counter intuitive to think that an infinite number of terms add to a finite number, however this is one of the fundamental problems for us.  What happens in the realm of the infinitely small?  \n",
    "\n",
    "We can use our tools to investigate this.  First, let us create a sequence of Zeno's terms as follows.\n",
    "\n",
    "$$\\displaystyle \\text{Zeno =} \\quad [~ \\frac{1}{2}, ~ \\frac{1}{2^2}, ~ \\frac{1}{2^3}, ...]$$\n",
    "\n",
    "\n",
    "Now, we will create a sequence that provides the **partial sums** of the terms of Zeno as:\n",
    "\n",
    "$$\\displaystyle \\text{Partial Sums = } ~ [\\frac{1}{2}, ~ \\frac{1}{2} + ~ \\frac{1}{4}, ~ \\frac{1}{2} + \\frac{1}{4} + \\frac{1}{16}, ...]$$\n",
    "\n",
    "\n",
    "We will also plot these side by side to compare. \n",
    "\n",
    "$~$\n",
    "\n",
    "<div class=\"alert alert-info\">\n",
    "  <strong>Sum Function!</strong> Note the use of the function `sum` in the construction of the partial sums.\n",
    "</div>"
   ]
  },
  {
   "cell_type": "code",
   "execution_count": 8,
   "metadata": {},
   "outputs": [
    {
     "data": {
      "text/plain": [
       "[0.5,\n",
       " 0.25,\n",
       " 0.125,\n",
       " 0.0625,\n",
       " 0.03125,\n",
       " 0.015625,\n",
       " 0.0078125,\n",
       " 0.00390625,\n",
       " 0.001953125,\n",
       " 0.0009765625]"
      ]
     },
     "execution_count": 8,
     "metadata": {},
     "output_type": "execute_result"
    }
   ],
   "source": [
    "zeno = [1/2**(i+1) for i in range(10)]\n",
    "zeno"
   ]
  },
  {
   "cell_type": "code",
   "execution_count": 9,
   "metadata": {
    "collapsed": true,
    "jupyter": {
     "outputs_hidden": true
    }
   },
   "outputs": [],
   "source": [
    "zeno_sums = [sum(zeno[:i]) for i in range(10)]"
   ]
  },
  {
   "cell_type": "code",
   "execution_count": 10,
   "metadata": {},
   "outputs": [
    {
     "data": {
      "text/plain": [
       "[0,\n",
       " 0.5,\n",
       " 0.75,\n",
       " 0.875,\n",
       " 0.9375,\n",
       " 0.96875,\n",
       " 0.984375,\n",
       " 0.9921875,\n",
       " 0.99609375,\n",
       " 0.998046875]"
      ]
     },
     "execution_count": 10,
     "metadata": {},
     "output_type": "execute_result"
    }
   ],
   "source": [
    "zeno_sums"
   ]
  },
  {
   "cell_type": "code",
   "execution_count": 11,
   "metadata": {},
   "outputs": [
    {
     "data": {
      "text/plain": [
       "<matplotlib.text.Text at 0x112c85898>"
      ]
     },
     "execution_count": 11,
     "metadata": {},
     "output_type": "execute_result"
    },
    {
     "data": {
      "image/png": "[encoded data removed]",
      "text/plain": [
       "<matplotlib.figure.Figure at 0x1129e96a0>"
      ]
     },
     "metadata": {},
     "output_type": "display_data"
    }
   ],
   "source": [
    "plt.figure(figsize = (12, 5))\n",
    "plt.subplot(1, 2, 1)\n",
    "plt.plot(zeno, '--o')\n",
    "plt.title(\"Zeno's Sequence of Terms\")\n",
    "\n",
    "plt.subplot(1, 2, 2)\n",
    "plt.plot(zeno_sums, '--o')\n",
    "plt.title(\"Partial Sums of Zeno's Terms\")"
   ]
  }
 ],
 "metadata": {
  "kernelspec": {
   "display_name": "Python 3",
   "language": "python",
   "name": "python3"
  },
  "language_info": {
   "codemirror_mode": {
    "name": "ipython",
    "version": 3
   },
   "file_extension": ".py",
   "mimetype": "text/x-python",
   "name": "python",
   "nbconvert_exporter": "python",
   "pygments_lexer": "ipython3",
   "version": "3.7.3"
  }
 },
 "nbformat": 4,
 "nbformat_minor": 4
}
