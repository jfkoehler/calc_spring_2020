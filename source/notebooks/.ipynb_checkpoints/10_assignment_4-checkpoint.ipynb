{
 "cells": [
  {
   "cell_type": "markdown",
   "metadata": {},
   "source": [
    "# Review\n",
    "\n"
   ]
  },
  {
   "cell_type": "code",
   "execution_count": 1,
   "metadata": {},
   "outputs": [],
   "source": [
    "%matplotlib inline\n",
    "import matplotlib.pyplot as plt\n",
    "import numpy as np\n",
    "import pandas as pd\n",
    "import sympy as sy"
   ]
  },
  {
   "cell_type": "markdown",
   "metadata": {},
   "source": [
    "##### Problem: Summations\n",
    "\n",
    "Use the summation formulas below to evaluate the given summations.\n",
    "\n",
    "$$\\sum_{i = 1}^n i = \\frac{n^{2}}{2} + \\frac{n}{2}\n",
    "$$"
   ]
  },
  {
   "cell_type": "markdown",
   "metadata": {},
   "source": [
    "$$\\sum_{i = 1}^n i^2 = \\frac{n^{3}}{3} + \\frac{n^{2}}{2} + \\frac{n}{6}\n",
    "$$"
   ]
  },
  {
   "cell_type": "markdown",
   "metadata": {},
   "source": [
    "$$\\sum_{i = 1}^n i^3 = \\frac{n^{4}}{4} + \\frac{n^{3}}{2} + \\frac{n^{2}}{4}\n",
    "$$"
   ]
  },
  {
   "cell_type": "markdown",
   "metadata": {},
   "source": [
    "a. $\\sum_{i = 1}^{10} i^2 - i$\n",
    "\n",
    "b. $\\sum_{i = 1}^{20} 4i^3 + i^2 - 6$\n",
    "\n",
    "c. $\\sum_{i = 4}^{10} 2i^2$ "
   ]
  },
  {
   "cell_type": "markdown",
   "metadata": {},
   "source": [
    "##### Problem 2: Mean, Variance, Standard Deviation\n",
    "\n",
    "Below is a sample of historic data relating to NYPD arrests.  We count the 20 most frequent violations, and ask you to use these values to compute the *mean number of incidents*, *variance in incident counts*, and *standard deviation of incident counts*.   "
   ]
  },
  {
   "cell_type": "code",
   "execution_count": 24,
   "metadata": {},
   "outputs": [],
   "source": [
    "nyc_arrests = pd.read_json('https://data.cityofnewyork.us/resource/8h9b-rp9u.json')"
   ]
  },
  {
   "cell_type": "code",
   "execution_count": 25,
   "metadata": {},
   "outputs": [
    {
     "data": {
      "text/html": [
       "<div>\n",
       "<style scoped>\n",
       "    .dataframe tbody tr th:only-of-type {\n",
       "        vertical-align: middle;\n",
       "    }\n",
       "\n",
       "    .dataframe tbody tr th {\n",
       "        vertical-align: top;\n",
       "    }\n",
       "\n",
       "    .dataframe thead th {\n",
       "        text-align: right;\n",
       "    }\n",
       "</style>\n",
       "<table border=\"1\" class=\"dataframe\">\n",
       "  <thead>\n",
       "    <tr style=\"text-align: right;\">\n",
       "      <th></th>\n",
       "      <th>arrest_key</th>\n",
       "      <th>arrest_date</th>\n",
       "      <th>pd_cd</th>\n",
       "      <th>pd_desc</th>\n",
       "      <th>ky_cd</th>\n",
       "      <th>ofns_desc</th>\n",
       "      <th>law_code</th>\n",
       "      <th>law_cat_cd</th>\n",
       "      <th>arrest_boro</th>\n",
       "      <th>arrest_precinct</th>\n",
       "      <th>jurisdiction_code</th>\n",
       "      <th>age_group</th>\n",
       "      <th>perp_sex</th>\n",
       "      <th>perp_race</th>\n",
       "      <th>x_coord_cd</th>\n",
       "      <th>y_coord_cd</th>\n",
       "      <th>latitude</th>\n",
       "      <th>longitude</th>\n",
       "    </tr>\n",
       "  </thead>\n",
       "  <tbody>\n",
       "    <tr>\n",
       "      <td>0</td>\n",
       "      <td>173130602</td>\n",
       "      <td>2017-12-31T00:00:00.000</td>\n",
       "      <td>566</td>\n",
       "      <td>MARIJUANA, POSSESSION</td>\n",
       "      <td>678.0</td>\n",
       "      <td>MISCELLANEOUS PENAL LAW</td>\n",
       "      <td>PL 2210500</td>\n",
       "      <td>V</td>\n",
       "      <td>Q</td>\n",
       "      <td>105</td>\n",
       "      <td>0</td>\n",
       "      <td>25-44</td>\n",
       "      <td>M</td>\n",
       "      <td>BLACK</td>\n",
       "      <td>1063056</td>\n",
       "      <td>207463</td>\n",
       "      <td>40.735772</td>\n",
       "      <td>-73.715638</td>\n",
       "    </tr>\n",
       "    <tr>\n",
       "      <td>1</td>\n",
       "      <td>173114463</td>\n",
       "      <td>2017-12-31T00:00:00.000</td>\n",
       "      <td>478</td>\n",
       "      <td>THEFT OF SERVICES, UNCLASSIFIED</td>\n",
       "      <td>343.0</td>\n",
       "      <td>OTHER OFFENSES RELATED TO THEFT</td>\n",
       "      <td>PL 1651503</td>\n",
       "      <td>M</td>\n",
       "      <td>Q</td>\n",
       "      <td>114</td>\n",
       "      <td>0</td>\n",
       "      <td>25-44</td>\n",
       "      <td>M</td>\n",
       "      <td>ASIAN / PACIFIC ISLANDER</td>\n",
       "      <td>1009113</td>\n",
       "      <td>219613</td>\n",
       "      <td>40.769437</td>\n",
       "      <td>-73.910241</td>\n",
       "    </tr>\n",
       "    <tr>\n",
       "      <td>2</td>\n",
       "      <td>173113513</td>\n",
       "      <td>2017-12-31T00:00:00.000</td>\n",
       "      <td>849</td>\n",
       "      <td>NY STATE LAWS,UNCLASSIFIED VIOLATION</td>\n",
       "      <td>677.0</td>\n",
       "      <td>OTHER STATE LAWS</td>\n",
       "      <td>LOC000000V</td>\n",
       "      <td>V</td>\n",
       "      <td>K</td>\n",
       "      <td>73</td>\n",
       "      <td>1</td>\n",
       "      <td>18-24</td>\n",
       "      <td>M</td>\n",
       "      <td>BLACK</td>\n",
       "      <td>1010719</td>\n",
       "      <td>186857</td>\n",
       "      <td>40.679525</td>\n",
       "      <td>-73.904572</td>\n",
       "    </tr>\n",
       "    <tr>\n",
       "      <td>3</td>\n",
       "      <td>173113423</td>\n",
       "      <td>2017-12-31T00:00:00.000</td>\n",
       "      <td>101</td>\n",
       "      <td>ASSAULT 3</td>\n",
       "      <td>344.0</td>\n",
       "      <td>ASSAULT 3 &amp; RELATED OFFENSES</td>\n",
       "      <td>PL 1200001</td>\n",
       "      <td>M</td>\n",
       "      <td>M</td>\n",
       "      <td>18</td>\n",
       "      <td>0</td>\n",
       "      <td>25-44</td>\n",
       "      <td>M</td>\n",
       "      <td>WHITE</td>\n",
       "      <td>987831</td>\n",
       "      <td>217446</td>\n",
       "      <td>40.763523</td>\n",
       "      <td>-73.987074</td>\n",
       "    </tr>\n",
       "    <tr>\n",
       "      <td>4</td>\n",
       "      <td>173113421</td>\n",
       "      <td>2017-12-31T00:00:00.000</td>\n",
       "      <td>101</td>\n",
       "      <td>ASSAULT 3</td>\n",
       "      <td>344.0</td>\n",
       "      <td>ASSAULT 3 &amp; RELATED OFFENSES</td>\n",
       "      <td>PL 1200001</td>\n",
       "      <td>M</td>\n",
       "      <td>M</td>\n",
       "      <td>18</td>\n",
       "      <td>0</td>\n",
       "      <td>45-64</td>\n",
       "      <td>M</td>\n",
       "      <td>BLACK</td>\n",
       "      <td>987073</td>\n",
       "      <td>216078</td>\n",
       "      <td>40.759768</td>\n",
       "      <td>-73.989811</td>\n",
       "    </tr>\n",
       "  </tbody>\n",
       "</table>\n",
       "</div>"
      ],
      "text/plain": [
       "   arrest_key              arrest_date  pd_cd  \\\n",
       "0   173130602  2017-12-31T00:00:00.000    566   \n",
       "1   173114463  2017-12-31T00:00:00.000    478   \n",
       "2   173113513  2017-12-31T00:00:00.000    849   \n",
       "3   173113423  2017-12-31T00:00:00.000    101   \n",
       "4   173113421  2017-12-31T00:00:00.000    101   \n",
       "\n",
       "                                pd_desc  ky_cd  \\\n",
       "0                 MARIJUANA, POSSESSION  678.0   \n",
       "1       THEFT OF SERVICES, UNCLASSIFIED  343.0   \n",
       "2  NY STATE LAWS,UNCLASSIFIED VIOLATION  677.0   \n",
       "3                             ASSAULT 3  344.0   \n",
       "4                             ASSAULT 3  344.0   \n",
       "\n",
       "                         ofns_desc    law_code law_cat_cd arrest_boro  \\\n",
       "0          MISCELLANEOUS PENAL LAW  PL 2210500          V           Q   \n",
       "1  OTHER OFFENSES RELATED TO THEFT  PL 1651503          M           Q   \n",
       "2                 OTHER STATE LAWS  LOC000000V          V           K   \n",
       "3     ASSAULT 3 & RELATED OFFENSES  PL 1200001          M           M   \n",
       "4     ASSAULT 3 & RELATED OFFENSES  PL 1200001          M           M   \n",
       "\n",
       "   arrest_precinct  jurisdiction_code age_group perp_sex  \\\n",
       "0              105                  0     25-44        M   \n",
       "1              114                  0     25-44        M   \n",
       "2               73                  1     18-24        M   \n",
       "3               18                  0     25-44        M   \n",
       "4               18                  0     45-64        M   \n",
       "\n",
       "                  perp_race  x_coord_cd  y_coord_cd   latitude  longitude  \n",
       "0                     BLACK     1063056      207463  40.735772 -73.715638  \n",
       "1  ASIAN / PACIFIC ISLANDER     1009113      219613  40.769437 -73.910241  \n",
       "2                     BLACK     1010719      186857  40.679525 -73.904572  \n",
       "3                     WHITE      987831      217446  40.763523 -73.987074  \n",
       "4                     BLACK      987073      216078  40.759768 -73.989811  "
      ]
     },
     "execution_count": 25,
     "metadata": {},
     "output_type": "execute_result"
    }
   ],
   "source": [
    "nyc_arrests.head()"
   ]
  },
  {
   "cell_type": "code",
   "execution_count": 26,
   "metadata": {},
   "outputs": [
    {
     "data": {
      "text/html": [
       "<div>\n",
       "<style scoped>\n",
       "    .dataframe tbody tr th:only-of-type {\n",
       "        vertical-align: middle;\n",
       "    }\n",
       "\n",
       "    .dataframe tbody tr th {\n",
       "        vertical-align: top;\n",
       "    }\n",
       "\n",
       "    .dataframe thead th {\n",
       "        text-align: right;\n",
       "    }\n",
       "</style>\n",
       "<table border=\"1\" class=\"dataframe\">\n",
       "  <thead>\n",
       "    <tr style=\"text-align: right;\">\n",
       "      <th></th>\n",
       "      <th>pd_desc</th>\n",
       "    </tr>\n",
       "  </thead>\n",
       "  <tbody>\n",
       "    <tr>\n",
       "      <td>ASSAULT 3</td>\n",
       "      <td>142</td>\n",
       "    </tr>\n",
       "    <tr>\n",
       "      <td>LARCENY,PETIT FROM OPEN AREAS,UNCLASSIFIED</td>\n",
       "      <td>89</td>\n",
       "    </tr>\n",
       "    <tr>\n",
       "      <td>TRAFFIC,UNCLASSIFIED MISDEMEAN</td>\n",
       "      <td>74</td>\n",
       "    </tr>\n",
       "    <tr>\n",
       "      <td>MARIJUANA, POSSESSION 4 &amp; 5</td>\n",
       "      <td>67</td>\n",
       "    </tr>\n",
       "    <tr>\n",
       "      <td>INTOXICATED DRIVING,ALCOHOL</td>\n",
       "      <td>53</td>\n",
       "    </tr>\n",
       "    <tr>\n",
       "      <td>ASSAULT 2,1,UNCLASSIFIED</td>\n",
       "      <td>47</td>\n",
       "    </tr>\n",
       "    <tr>\n",
       "      <td>ROBBERY,UNCLASSIFIED,OPEN AREAS</td>\n",
       "      <td>37</td>\n",
       "    </tr>\n",
       "    <tr>\n",
       "      <td>THEFT OF SERVICES, UNCLASSIFIED</td>\n",
       "      <td>32</td>\n",
       "    </tr>\n",
       "    <tr>\n",
       "      <td>LARCENY,GRAND FROM OPEN AREAS,UNCLASSIFIED</td>\n",
       "      <td>29</td>\n",
       "    </tr>\n",
       "    <tr>\n",
       "      <td>CONTROLLED SUBSTANCE, POSSESSION 7</td>\n",
       "      <td>25</td>\n",
       "    </tr>\n",
       "    <tr>\n",
       "      <td>PUBLIC ADMINISTRATION,UNCLASSIFIED FELONY</td>\n",
       "      <td>23</td>\n",
       "    </tr>\n",
       "    <tr>\n",
       "      <td>OBSTR BREATH/CIRCUL</td>\n",
       "      <td>20</td>\n",
       "    </tr>\n",
       "    <tr>\n",
       "      <td>MENACING,UNCLASSIFIED</td>\n",
       "      <td>19</td>\n",
       "    </tr>\n",
       "    <tr>\n",
       "      <td>FORGERY,ETC.,UNCLASSIFIED-FELONY</td>\n",
       "      <td>16</td>\n",
       "    </tr>\n",
       "    <tr>\n",
       "      <td>CONTROLLED SUBSTANCE,INTENT TO SELL 3</td>\n",
       "      <td>16</td>\n",
       "    </tr>\n",
       "    <tr>\n",
       "      <td>RESISTING ARREST</td>\n",
       "      <td>16</td>\n",
       "    </tr>\n",
       "    <tr>\n",
       "      <td>WEAPONS, POSSESSION, ETC</td>\n",
       "      <td>16</td>\n",
       "    </tr>\n",
       "    <tr>\n",
       "      <td>TRAFFIC,UNCLASSIFIED MISDEMEANOR</td>\n",
       "      <td>15</td>\n",
       "    </tr>\n",
       "    <tr>\n",
       "      <td>WEAPONS POSSESSION 3</td>\n",
       "      <td>15</td>\n",
       "    </tr>\n",
       "    <tr>\n",
       "      <td>AGGRAVATED HARASSMENT 2</td>\n",
       "      <td>14</td>\n",
       "    </tr>\n",
       "  </tbody>\n",
       "</table>\n",
       "</div>"
      ],
      "text/plain": [
       "                                            pd_desc\n",
       "ASSAULT 3                                       142\n",
       "LARCENY,PETIT FROM OPEN AREAS,UNCLASSIFIED       89\n",
       "TRAFFIC,UNCLASSIFIED MISDEMEAN                   74\n",
       "MARIJUANA, POSSESSION 4 & 5                      67\n",
       "INTOXICATED DRIVING,ALCOHOL                      53\n",
       "ASSAULT 2,1,UNCLASSIFIED                         47\n",
       "ROBBERY,UNCLASSIFIED,OPEN AREAS                  37\n",
       "THEFT OF SERVICES, UNCLASSIFIED                  32\n",
       "LARCENY,GRAND FROM OPEN AREAS,UNCLASSIFIED       29\n",
       "CONTROLLED SUBSTANCE, POSSESSION 7               25\n",
       "PUBLIC ADMINISTRATION,UNCLASSIFIED FELONY        23\n",
       "OBSTR BREATH/CIRCUL                              20\n",
       "MENACING,UNCLASSIFIED                            19\n",
       "FORGERY,ETC.,UNCLASSIFIED-FELONY                 16\n",
       "CONTROLLED SUBSTANCE,INTENT TO SELL 3            16\n",
       "RESISTING ARREST                                 16\n",
       "WEAPONS, POSSESSION, ETC                         16\n",
       "TRAFFIC,UNCLASSIFIED MISDEMEANOR                 15\n",
       "WEAPONS POSSESSION 3                             15\n",
       "AGGRAVATED HARASSMENT 2                          14"
      ]
     },
     "execution_count": 26,
     "metadata": {},
     "output_type": "execute_result"
    }
   ],
   "source": [
    "nyc_arrests['pd_desc'].value_counts().nlargest(20).to_frame()"
   ]
  },
  {
   "cell_type": "markdown",
   "metadata": {},
   "source": [
    "##### Problem: Root Mean Squared Error\n",
    "\n",
    "Suppose we build a model to predict the price of an apartment using the square footage and bedrooms as follows:\n",
    "\n",
    "$$c(x,y) = 10x + 1.2y + 200$$\n",
    "\n",
    "where $x$ represents square footage and $y$ the number of bedrooms.  The **Root Mean Squared Error** is defined by:\n",
    "\n",
    "$$RMSE = \\sqrt{\\frac{\\sum_{i = 1}^n (\\hat{y} - y_i)^2 }{n}}$$\n",
    "\n",
    "essentially the square root of summed squared errors between real and predicted cost."
   ]
  },
  {
   "cell_type": "markdown",
   "metadata": {},
   "source": [
    "Use the formula to find the **RMSE** of our models predictions below."
   ]
  },
  {
   "cell_type": "markdown",
   "metadata": {},
   "source": [
    "<table border=\"1\" class=\"dataframe\">  <thead>    <tr style=\"text-align: right;\">      <th></th>      <th>square footage</th>      <th>bedrooms</th>      <th>real_cost</th>      <th>predicted_cost</th>    </tr>  </thead>  <tbody>    <tr>      <th>0</th>      <td>400</td>      <td>1</td>      <td>4300.76</td>      <td>4201.2</td>    </tr>    <tr>      <th>1</th>      <td>500</td>      <td>1</td>      <td>5301.01</td>      <td>5201.2</td>    </tr>    <tr>      <th>2</th>      <td>600</td>      <td>3</td>      <td>6302.63</td>      <td>6203.6</td>    </tr>    <tr>      <th>3</th>      <td>700</td>      <td>1</td>      <td>7300.91</td>      <td>7201.2</td>    </tr>    <tr>      <th>4</th>      <td>800</td>      <td>1</td>      <td>8301.07</td>      <td>8201.2</td>    </tr>    <tr>      <th>5</th>      <td>900</td>      <td>3</td>      <td>9303.85</td>      <td>9203.6</td>    </tr>    <tr>      <th>6</th>      <td>1000</td>      <td>2</td>      <td>10302.35</td>      <td>10202.4</td>    </tr>  </tbody></table>"
   ]
  },
  {
   "cell_type": "markdown",
   "metadata": {},
   "source": [
    "##### Problem: Area under a curve.  \n",
    "\n",
    "Evaluate the definite integrals below and represent the solution visually as the area under the curve $f(x)$.\n",
    "\n",
    "a. $\\int_{1}^3 x^3 - \\frac{1}{x} dx$\n",
    "\n",
    "b. $\\int_{\\pi}^{4\\pi} 2 \\cos(x) dx$\n",
    "\n",
    "c. $\\int_4^9 1.04(5)^x dx$"
   ]
  },
  {
   "cell_type": "code",
   "execution_count": null,
   "metadata": {},
   "outputs": [],
   "source": []
  },
  {
   "cell_type": "code",
   "execution_count": null,
   "metadata": {},
   "outputs": [],
   "source": []
  },
  {
   "cell_type": "code",
   "execution_count": null,
   "metadata": {},
   "outputs": [],
   "source": []
  },
  {
   "cell_type": "code",
   "execution_count": null,
   "metadata": {},
   "outputs": [],
   "source": []
  },
  {
   "cell_type": "code",
   "execution_count": null,
   "metadata": {},
   "outputs": [],
   "source": []
  },
  {
   "cell_type": "markdown",
   "metadata": {},
   "source": [
    "##### Problem: Area between curves\n",
    "\n",
    "Given the functions:\n",
    "\n",
    "$$f(x) = 1 + x + e^{x^2 - 2x} \\quad g(x) = x^4 - 6.5x^2 + 6x + 2$$\n",
    "\n",
    "define the regions R and S shown below.\n",
    "\n"
   ]
  },
  {
   "cell_type": "markdown",
   "metadata": {},
   "source": [
    "<center>\n",
    "    <img src = images/a4p4.png />\n",
    "    </center>"
   ]
  },
  {
   "cell_type": "markdown",
   "metadata": {},
   "source": [
    "1. Prove that the lines intersect at $x = 1$.\n",
    "\n",
    "2. Set up definite integrals to represent the areas $R$ and $S$\n",
    "\n",
    "3. Evaluate the integrals using technology."
   ]
  },
  {
   "cell_type": "code",
   "execution_count": null,
   "metadata": {},
   "outputs": [],
   "source": []
  },
  {
   "cell_type": "code",
   "execution_count": null,
   "metadata": {},
   "outputs": [],
   "source": []
  },
  {
   "cell_type": "code",
   "execution_count": null,
   "metadata": {},
   "outputs": [],
   "source": []
  },
  {
   "cell_type": "code",
   "execution_count": null,
   "metadata": {},
   "outputs": [],
   "source": []
  },
  {
   "cell_type": "markdown",
   "metadata": {},
   "source": [
    "##### Problem: Volumes and Revolution\n",
    "\n",
    "1. Find the volume of the solid generated by rotating the region bounded by $y = x$, $x = 0$, and $y = (x-1)^2 + 1$.  Sketch an image of this region or try to use Python to visualize.\n",
    "\n",
    "2. Find the volume of the solid formed by rotating the region R from previous problem about the $x$-axis.  Sketch an image of this region.\n",
    "\n"
   ]
  },
  {
   "cell_type": "code",
   "execution_count": null,
   "metadata": {},
   "outputs": [],
   "source": []
  },
  {
   "cell_type": "code",
   "execution_count": null,
   "metadata": {},
   "outputs": [],
   "source": []
  },
  {
   "cell_type": "code",
   "execution_count": null,
   "metadata": {},
   "outputs": [],
   "source": []
  },
  {
   "cell_type": "markdown",
   "metadata": {},
   "source": [
    "##### Problem: Gini Index\n",
    "\n",
    "The World Bank provides access to data about world GINI Indicies [here](https://data.worldbank.org/indicator/SI.POV.GINI?end=2017&start=1985).  Take a look around at a country of your choice.  What does the GINI Index say about this country?  \n",
    "\n",
    "The United States Census gathers and provides data related to Income and Poverty in the United States.  Visit their site [here](https://www.census.gov/library/publications/2019/demo/p60-266.html), and explore the data available.  Download one data table and discuss the information your found and what it says about income and poverty in the United States."
   ]
  },
  {
   "cell_type": "code",
   "execution_count": null,
   "metadata": {},
   "outputs": [],
   "source": [
    "# def c(x, y): return 10*x + 1.2*y + 200\n",
    "\n",
    "# x = np.arange(400, 1100, 100)\n",
    "\n",
    "# y = np.random.randint(1, 4, 7)\n",
    "\n",
    "# zhat = np.round(c(x, y), 2)\n",
    "\n",
    "# z = zhat + np.round(np.random.normal(100, size = 7), 2)\n",
    "\n",
    "# df = pd.DataFrame({'square footage': x, 'bedrooms': y, 'real_cost': z, 'predicted_cost': zhat})\n",
    "# df.to_html()"
   ]
  },
  {
   "cell_type": "code",
   "execution_count": null,
   "metadata": {},
   "outputs": [],
   "source": [
    "# def f(x): return 1 + x + np.e**(x**2 - 2*x)\n",
    "# def g(x): return x**4 - 6.5*x**2 + 6*x + 2\n",
    "# x = np.linspace(0, 2, 1000)\n",
    "# plt.plot(x, f(x), label = '$f(x)$')\n",
    "# plt.plot(x, g(x), label = '$g(x)$')\n",
    "# plt.legend()\n",
    "# plt.fill_between(x, f(x), g(x), color = 'grey', alpha = 0.1)\n",
    "# plt.text(0.4, 2.5, 'R', fontsize = 30)\n",
    "# plt.text(1.4, 2.2, 'S', fontsize = 30)\n",
    "# plt.savefig('images/a4p4.png')"
   ]
  }
 ],
 "metadata": {
  "kernelspec": {
   "display_name": "Python 3",
   "language": "python",
   "name": "python3"
  },
  "language_info": {
   "codemirror_mode": {
    "name": "ipython",
    "version": 3
   },
   "file_extension": ".py",
   "mimetype": "text/x-python",
   "name": "python",
   "nbconvert_exporter": "python",
   "pygments_lexer": "ipython3",
   "version": "3.7.4"
  }
 },
 "nbformat": 4,
 "nbformat_minor": 4
}
